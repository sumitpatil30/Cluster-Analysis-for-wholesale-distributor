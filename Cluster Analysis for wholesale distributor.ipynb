{
 "cells": [
  {
   "cell_type": "code",
   "execution_count": null,
   "metadata": {},
   "outputs": [],
   "source": [
    "# I have used k-means clustering algorithm for clustering the retailers. \n",
    "# Below is the entire code:"
   ]
  },
  {
   "cell_type": "code",
   "execution_count": 127,
   "metadata": {},
   "outputs": [],
   "source": [
    "# Loading necessary libraries\n",
    "import os\n",
    "import numpy as np\n",
    "import pandas as pd\n",
    "\n",
    "import seaborn as sns\n",
    "import matplotlib.pyplot as plt\n",
    "\n",
    "from sklearn.preprocessing import MinMaxScaler\n",
    "\n",
    "from sklearn.cluster import KMeans\n",
    "from sklearn.manifold import TSNE"
   ]
  },
  {
   "cell_type": "code",
   "execution_count": 2,
   "metadata": {},
   "outputs": [],
   "source": [
    "# Change current directory\n",
    "os.chdir('D:\\\\')"
   ]
  },
  {
   "cell_type": "code",
   "execution_count": 3,
   "metadata": {},
   "outputs": [],
   "source": [
    "#Load the xlsx file into data\n",
    "data=pd.read_excel('Case Study Data.xlsx' , sep=',')"
   ]
  },
  {
   "cell_type": "code",
   "execution_count": 4,
   "metadata": {},
   "outputs": [
    {
     "data": {
      "text/html": [
       "<div>\n",
       "<style scoped>\n",
       "    .dataframe tbody tr th:only-of-type {\n",
       "        vertical-align: middle;\n",
       "    }\n",
       "\n",
       "    .dataframe tbody tr th {\n",
       "        vertical-align: top;\n",
       "    }\n",
       "\n",
       "    .dataframe thead th {\n",
       "        text-align: right;\n",
       "    }\n",
       "</style>\n",
       "<table border=\"1\" class=\"dataframe\">\n",
       "  <thead>\n",
       "    <tr style=\"text-align: right;\">\n",
       "      <th></th>\n",
       "      <th>Retailer Name</th>\n",
       "      <th>Brand1</th>\n",
       "      <th>Brand2</th>\n",
       "      <th>Brand3</th>\n",
       "      <th>Brand4</th>\n",
       "      <th>Brand5</th>\n",
       "      <th>Brand6</th>\n",
       "      <th>Brand7</th>\n",
       "      <th>Brand8</th>\n",
       "      <th>Brand9</th>\n",
       "      <th>Brand10</th>\n",
       "      <th>Brand11</th>\n",
       "      <th>Brand12</th>\n",
       "      <th>Total Sales</th>\n",
       "      <th>Number of Brands</th>\n",
       "      <th>Category of Retailer</th>\n",
       "    </tr>\n",
       "  </thead>\n",
       "  <tbody>\n",
       "    <tr>\n",
       "      <th>0</th>\n",
       "      <td>Retailer 1</td>\n",
       "      <td>0.0000</td>\n",
       "      <td>0.0</td>\n",
       "      <td>0.0</td>\n",
       "      <td>0.000</td>\n",
       "      <td>0.0000</td>\n",
       "      <td>0.0</td>\n",
       "      <td>0.0</td>\n",
       "      <td>0.0</td>\n",
       "      <td>0.000</td>\n",
       "      <td>30826.61</td>\n",
       "      <td>0.0</td>\n",
       "      <td>0.0</td>\n",
       "      <td>30826.6100</td>\n",
       "      <td>1</td>\n",
       "      <td>NaN</td>\n",
       "    </tr>\n",
       "    <tr>\n",
       "      <th>1</th>\n",
       "      <td>Retailer 2</td>\n",
       "      <td>9833.1060</td>\n",
       "      <td>0.0</td>\n",
       "      <td>0.0</td>\n",
       "      <td>24073.632</td>\n",
       "      <td>33806.4312</td>\n",
       "      <td>0.0</td>\n",
       "      <td>0.0</td>\n",
       "      <td>0.0</td>\n",
       "      <td>0.000</td>\n",
       "      <td>0.00</td>\n",
       "      <td>0.0</td>\n",
       "      <td>0.0</td>\n",
       "      <td>67713.1692</td>\n",
       "      <td>3</td>\n",
       "      <td>NaN</td>\n",
       "    </tr>\n",
       "    <tr>\n",
       "      <th>2</th>\n",
       "      <td>Retailer 3</td>\n",
       "      <td>24690.6708</td>\n",
       "      <td>0.0</td>\n",
       "      <td>0.0</td>\n",
       "      <td>0.000</td>\n",
       "      <td>27367.0386</td>\n",
       "      <td>0.0</td>\n",
       "      <td>0.0</td>\n",
       "      <td>0.0</td>\n",
       "      <td>12948.696</td>\n",
       "      <td>0.00</td>\n",
       "      <td>0.0</td>\n",
       "      <td>0.0</td>\n",
       "      <td>65006.4054</td>\n",
       "      <td>3</td>\n",
       "      <td>NaN</td>\n",
       "    </tr>\n",
       "    <tr>\n",
       "      <th>3</th>\n",
       "      <td>Retailer 4</td>\n",
       "      <td>0.0000</td>\n",
       "      <td>0.0</td>\n",
       "      <td>0.0</td>\n",
       "      <td>0.000</td>\n",
       "      <td>0.0000</td>\n",
       "      <td>0.0</td>\n",
       "      <td>0.0</td>\n",
       "      <td>0.0</td>\n",
       "      <td>0.000</td>\n",
       "      <td>0.00</td>\n",
       "      <td>0.0</td>\n",
       "      <td>0.0</td>\n",
       "      <td>0.0000</td>\n",
       "      <td>0</td>\n",
       "      <td>NaN</td>\n",
       "    </tr>\n",
       "    <tr>\n",
       "      <th>4</th>\n",
       "      <td>Retailer 5</td>\n",
       "      <td>0.0000</td>\n",
       "      <td>0.0</td>\n",
       "      <td>0.0</td>\n",
       "      <td>0.000</td>\n",
       "      <td>0.0000</td>\n",
       "      <td>0.0</td>\n",
       "      <td>0.0</td>\n",
       "      <td>0.0</td>\n",
       "      <td>0.000</td>\n",
       "      <td>0.00</td>\n",
       "      <td>0.0</td>\n",
       "      <td>0.0</td>\n",
       "      <td>0.0000</td>\n",
       "      <td>0</td>\n",
       "      <td>NaN</td>\n",
       "    </tr>\n",
       "  </tbody>\n",
       "</table>\n",
       "</div>"
      ],
      "text/plain": [
       "  Retailer Name      Brand1  Brand2  Brand3     Brand4      Brand5  Brand6  \\\n",
       "0    Retailer 1      0.0000     0.0     0.0      0.000      0.0000     0.0   \n",
       "1    Retailer 2   9833.1060     0.0     0.0  24073.632  33806.4312     0.0   \n",
       "2    Retailer 3  24690.6708     0.0     0.0      0.000  27367.0386     0.0   \n",
       "3    Retailer 4      0.0000     0.0     0.0      0.000      0.0000     0.0   \n",
       "4    Retailer 5      0.0000     0.0     0.0      0.000      0.0000     0.0   \n",
       "\n",
       "   Brand7  Brand8     Brand9   Brand10  Brand11  Brand12  Total Sales  \\\n",
       "0     0.0     0.0      0.000  30826.61      0.0      0.0   30826.6100   \n",
       "1     0.0     0.0      0.000      0.00      0.0      0.0   67713.1692   \n",
       "2     0.0     0.0  12948.696      0.00      0.0      0.0   65006.4054   \n",
       "3     0.0     0.0      0.000      0.00      0.0      0.0       0.0000   \n",
       "4     0.0     0.0      0.000      0.00      0.0      0.0       0.0000   \n",
       "\n",
       "   Number of Brands  Category of Retailer  \n",
       "0                 1                   NaN  \n",
       "1                 3                   NaN  \n",
       "2                 3                   NaN  \n",
       "3                 0                   NaN  \n",
       "4                 0                   NaN  "
      ]
     },
     "execution_count": 4,
     "metadata": {},
     "output_type": "execute_result"
    }
   ],
   "source": [
    "# Checking first 5 enntries of the data \n",
    "data.head()"
   ]
  },
  {
   "cell_type": "code",
   "execution_count": 5,
   "metadata": {},
   "outputs": [
    {
     "name": "stdout",
     "output_type": "stream",
     "text": [
      "<class 'pandas.core.frame.DataFrame'>\n",
      "RangeIndex: 9938 entries, 0 to 9937\n",
      "Data columns (total 16 columns):\n",
      "Retailer Name           9938 non-null object\n",
      "Brand1                  9938 non-null float64\n",
      "Brand2                  9938 non-null float64\n",
      "Brand3                  9938 non-null float64\n",
      "Brand4                  9938 non-null float64\n",
      "Brand5                  9938 non-null float64\n",
      "Brand6                  9938 non-null float64\n",
      "Brand7                  9938 non-null float64\n",
      "Brand8                  9938 non-null float64\n",
      "Brand9                  9938 non-null float64\n",
      "Brand10                 9938 non-null float64\n",
      "Brand11                 9938 non-null float64\n",
      "Brand12                 9938 non-null float64\n",
      "Total Sales             9938 non-null float64\n",
      "Number of Brands        9938 non-null int64\n",
      "Category of Retailer    0 non-null float64\n",
      "dtypes: float64(14), int64(1), object(1)\n",
      "memory usage: 1.2+ MB\n"
     ]
    }
   ],
   "source": [
    "# Checking the structure of data\n",
    "data.info()"
   ]
  },
  {
   "cell_type": "code",
   "execution_count": 6,
   "metadata": {
    "scrolled": true
   },
   "outputs": [
    {
     "data": {
      "text/html": [
       "<div>\n",
       "<style scoped>\n",
       "    .dataframe tbody tr th:only-of-type {\n",
       "        vertical-align: middle;\n",
       "    }\n",
       "\n",
       "    .dataframe tbody tr th {\n",
       "        vertical-align: top;\n",
       "    }\n",
       "\n",
       "    .dataframe thead th {\n",
       "        text-align: right;\n",
       "    }\n",
       "</style>\n",
       "<table border=\"1\" class=\"dataframe\">\n",
       "  <thead>\n",
       "    <tr style=\"text-align: right;\">\n",
       "      <th></th>\n",
       "      <th>Brand1</th>\n",
       "      <th>Brand2</th>\n",
       "      <th>Brand3</th>\n",
       "      <th>Brand4</th>\n",
       "      <th>Brand5</th>\n",
       "      <th>Brand6</th>\n",
       "      <th>Brand7</th>\n",
       "      <th>Brand8</th>\n",
       "      <th>Brand9</th>\n",
       "      <th>Brand10</th>\n",
       "      <th>Brand11</th>\n",
       "      <th>Brand12</th>\n",
       "      <th>Total Sales</th>\n",
       "      <th>Number of Brands</th>\n",
       "      <th>Category of Retailer</th>\n",
       "    </tr>\n",
       "  </thead>\n",
       "  <tbody>\n",
       "    <tr>\n",
       "      <th>count</th>\n",
       "      <td>9938.000000</td>\n",
       "      <td>9938.000000</td>\n",
       "      <td>9938.000000</td>\n",
       "      <td>9938.000000</td>\n",
       "      <td>9.938000e+03</td>\n",
       "      <td>9938.000000</td>\n",
       "      <td>9.938000e+03</td>\n",
       "      <td>9938.000000</td>\n",
       "      <td>9938.000000</td>\n",
       "      <td>9938.000000</td>\n",
       "      <td>9938.000000</td>\n",
       "      <td>9938.000000</td>\n",
       "      <td>9.938000e+03</td>\n",
       "      <td>9938.000000</td>\n",
       "      <td>0.0</td>\n",
       "    </tr>\n",
       "    <tr>\n",
       "      <th>mean</th>\n",
       "      <td>1626.947684</td>\n",
       "      <td>157.941751</td>\n",
       "      <td>0.983022</td>\n",
       "      <td>2668.657468</td>\n",
       "      <td>2.892482e+03</td>\n",
       "      <td>1212.684379</td>\n",
       "      <td>1.184803e+03</td>\n",
       "      <td>620.551458</td>\n",
       "      <td>2486.111412</td>\n",
       "      <td>1613.797392</td>\n",
       "      <td>746.308459</td>\n",
       "      <td>98.945128</td>\n",
       "      <td>1.551269e+04</td>\n",
       "      <td>0.828738</td>\n",
       "      <td>NaN</td>\n",
       "    </tr>\n",
       "    <tr>\n",
       "      <th>std</th>\n",
       "      <td>7184.209516</td>\n",
       "      <td>2221.445456</td>\n",
       "      <td>97.997007</td>\n",
       "      <td>15436.354622</td>\n",
       "      <td>3.074098e+04</td>\n",
       "      <td>7430.711600</td>\n",
       "      <td>3.078367e+04</td>\n",
       "      <td>3354.461354</td>\n",
       "      <td>14747.601322</td>\n",
       "      <td>6084.118340</td>\n",
       "      <td>3746.600964</td>\n",
       "      <td>1135.016794</td>\n",
       "      <td>8.245152e+04</td>\n",
       "      <td>1.459062</td>\n",
       "      <td>NaN</td>\n",
       "    </tr>\n",
       "    <tr>\n",
       "      <th>min</th>\n",
       "      <td>0.000000</td>\n",
       "      <td>0.000000</td>\n",
       "      <td>0.000000</td>\n",
       "      <td>0.000000</td>\n",
       "      <td>0.000000e+00</td>\n",
       "      <td>0.000000</td>\n",
       "      <td>0.000000e+00</td>\n",
       "      <td>0.000000</td>\n",
       "      <td>0.000000</td>\n",
       "      <td>0.000000</td>\n",
       "      <td>0.000000</td>\n",
       "      <td>0.000000</td>\n",
       "      <td>0.000000e+00</td>\n",
       "      <td>0.000000</td>\n",
       "      <td>NaN</td>\n",
       "    </tr>\n",
       "    <tr>\n",
       "      <th>25%</th>\n",
       "      <td>0.000000</td>\n",
       "      <td>0.000000</td>\n",
       "      <td>0.000000</td>\n",
       "      <td>0.000000</td>\n",
       "      <td>0.000000e+00</td>\n",
       "      <td>0.000000</td>\n",
       "      <td>0.000000e+00</td>\n",
       "      <td>0.000000</td>\n",
       "      <td>0.000000</td>\n",
       "      <td>0.000000</td>\n",
       "      <td>0.000000</td>\n",
       "      <td>0.000000</td>\n",
       "      <td>0.000000e+00</td>\n",
       "      <td>0.000000</td>\n",
       "      <td>NaN</td>\n",
       "    </tr>\n",
       "    <tr>\n",
       "      <th>50%</th>\n",
       "      <td>0.000000</td>\n",
       "      <td>0.000000</td>\n",
       "      <td>0.000000</td>\n",
       "      <td>0.000000</td>\n",
       "      <td>0.000000e+00</td>\n",
       "      <td>0.000000</td>\n",
       "      <td>0.000000e+00</td>\n",
       "      <td>0.000000</td>\n",
       "      <td>0.000000</td>\n",
       "      <td>0.000000</td>\n",
       "      <td>0.000000</td>\n",
       "      <td>0.000000</td>\n",
       "      <td>0.000000e+00</td>\n",
       "      <td>0.000000</td>\n",
       "      <td>NaN</td>\n",
       "    </tr>\n",
       "    <tr>\n",
       "      <th>75%</th>\n",
       "      <td>0.000000</td>\n",
       "      <td>0.000000</td>\n",
       "      <td>0.000000</td>\n",
       "      <td>0.000000</td>\n",
       "      <td>0.000000e+00</td>\n",
       "      <td>0.000000</td>\n",
       "      <td>0.000000e+00</td>\n",
       "      <td>0.000000</td>\n",
       "      <td>0.000000</td>\n",
       "      <td>0.000000</td>\n",
       "      <td>0.000000</td>\n",
       "      <td>0.000000</td>\n",
       "      <td>1.830092e+04</td>\n",
       "      <td>1.000000</td>\n",
       "      <td>NaN</td>\n",
       "    </tr>\n",
       "    <tr>\n",
       "      <th>max</th>\n",
       "      <td>203217.524000</td>\n",
       "      <td>119687.289600</td>\n",
       "      <td>9769.274400</td>\n",
       "      <td>481472.640000</td>\n",
       "      <td>2.955616e+06</td>\n",
       "      <td>464839.948800</td>\n",
       "      <td>3.032761e+06</td>\n",
       "      <td>67149.830000</td>\n",
       "      <td>932306.112000</td>\n",
       "      <td>145207.771200</td>\n",
       "      <td>62038.236000</td>\n",
       "      <td>44554.456800</td>\n",
       "      <td>7.618235e+06</td>\n",
       "      <td>9.000000</td>\n",
       "      <td>NaN</td>\n",
       "    </tr>\n",
       "  </tbody>\n",
       "</table>\n",
       "</div>"
      ],
      "text/plain": [
       "              Brand1         Brand2       Brand3         Brand4        Brand5  \\\n",
       "count    9938.000000    9938.000000  9938.000000    9938.000000  9.938000e+03   \n",
       "mean     1626.947684     157.941751     0.983022    2668.657468  2.892482e+03   \n",
       "std      7184.209516    2221.445456    97.997007   15436.354622  3.074098e+04   \n",
       "min         0.000000       0.000000     0.000000       0.000000  0.000000e+00   \n",
       "25%         0.000000       0.000000     0.000000       0.000000  0.000000e+00   \n",
       "50%         0.000000       0.000000     0.000000       0.000000  0.000000e+00   \n",
       "75%         0.000000       0.000000     0.000000       0.000000  0.000000e+00   \n",
       "max    203217.524000  119687.289600  9769.274400  481472.640000  2.955616e+06   \n",
       "\n",
       "              Brand6        Brand7        Brand8         Brand9  \\\n",
       "count    9938.000000  9.938000e+03   9938.000000    9938.000000   \n",
       "mean     1212.684379  1.184803e+03    620.551458    2486.111412   \n",
       "std      7430.711600  3.078367e+04   3354.461354   14747.601322   \n",
       "min         0.000000  0.000000e+00      0.000000       0.000000   \n",
       "25%         0.000000  0.000000e+00      0.000000       0.000000   \n",
       "50%         0.000000  0.000000e+00      0.000000       0.000000   \n",
       "75%         0.000000  0.000000e+00      0.000000       0.000000   \n",
       "max    464839.948800  3.032761e+06  67149.830000  932306.112000   \n",
       "\n",
       "             Brand10       Brand11       Brand12   Total Sales  \\\n",
       "count    9938.000000   9938.000000   9938.000000  9.938000e+03   \n",
       "mean     1613.797392    746.308459     98.945128  1.551269e+04   \n",
       "std      6084.118340   3746.600964   1135.016794  8.245152e+04   \n",
       "min         0.000000      0.000000      0.000000  0.000000e+00   \n",
       "25%         0.000000      0.000000      0.000000  0.000000e+00   \n",
       "50%         0.000000      0.000000      0.000000  0.000000e+00   \n",
       "75%         0.000000      0.000000      0.000000  1.830092e+04   \n",
       "max    145207.771200  62038.236000  44554.456800  7.618235e+06   \n",
       "\n",
       "       Number of Brands  Category of Retailer  \n",
       "count       9938.000000                   0.0  \n",
       "mean           0.828738                   NaN  \n",
       "std            1.459062                   NaN  \n",
       "min            0.000000                   NaN  \n",
       "25%            0.000000                   NaN  \n",
       "50%            0.000000                   NaN  \n",
       "75%            1.000000                   NaN  \n",
       "max            9.000000                   NaN  "
      ]
     },
     "execution_count": 6,
     "metadata": {},
     "output_type": "execute_result"
    }
   ],
   "source": [
    "# Checking descriptive statistics of all the continuous variables\n",
    "data.describe()"
   ]
  },
  {
   "cell_type": "code",
   "execution_count": 7,
   "metadata": {},
   "outputs": [
    {
     "data": {
      "image/png": "[encoded data removed]",
      "text/plain": [
       "<Figure size 432x288 with 1 Axes>"
      ]
     },
     "metadata": {
      "needs_background": "light"
     },
     "output_type": "display_data"
    },
    {
     "data": {
      "image/png": "[encoded data removed]",
      "text/plain": [
       "<Figure size 432x288 with 1 Axes>"
      ]
     },
     "metadata": {
      "needs_background": "light"
     },
     "output_type": "display_data"
    },
    {
     "data": {
      "image/png": "[encoded data removed]",
      "text/plain": [
       "<Figure size 432x288 with 1 Axes>"
      ]
     },
     "metadata": {
      "needs_background": "light"
     },
     "output_type": "display_data"
    },
    {
     "data": {
      "image/png": "[encoded data removed]",
      "text/plain": [
       "<Figure size 432x288 with 1 Axes>"
      ]
     },
     "metadata": {
      "needs_background": "light"
     },
     "output_type": "display_data"
    },
    {
     "data": {
      "image/png": "[encoded data removed]",
      "text/plain": [
       "<Figure size 432x288 with 1 Axes>"
      ]
     },
     "metadata": {
      "needs_background": "light"
     },
     "output_type": "display_data"
    },
    {
     "data": {
      "image/png": "[encoded data removed]",
      "text/plain": [
       "<Figure size 432x288 with 1 Axes>"
      ]
     },
     "metadata": {
      "needs_background": "light"
     },
     "output_type": "display_data"
    },
    {
     "data": {
      "image/png": "[encoded data removed]",
      "text/plain": [
       "<Figure size 432x288 with 1 Axes>"
      ]
     },
     "metadata": {
      "needs_background": "light"
     },
     "output_type": "display_data"
    },
    {
     "data": {
      "image/png": "[encoded data removed]",
      "text/plain": [
       "<Figure size 432x288 with 1 Axes>"
      ]
     },
     "metadata": {
      "needs_background": "light"
     },
     "output_type": "display_data"
    },
    {
     "data": {
      "image/png": "[encoded data removed]",
      "text/plain": [
       "<Figure size 432x288 with 1 Axes>"
      ]
     },
     "metadata": {
      "needs_background": "light"
     },
     "output_type": "display_data"
    },
    {
     "data": {
      "image/png": "[encoded data removed]",
      "text/plain": [
       "<Figure size 432x288 with 1 Axes>"
      ]
     },
     "metadata": {
      "needs_background": "light"
     },
     "output_type": "display_data"
    },
    {
     "data": {
      "image/png": "[encoded data removed]",
      "text/plain": [
       "<Figure size 432x288 with 1 Axes>"
      ]
     },
     "metadata": {
      "needs_background": "light"
     },
     "output_type": "display_data"
    },
    {
     "data": {
      "image/png": "[encoded data removed]",
      "text/plain": [
       "<Figure size 432x288 with 1 Axes>"
      ]
     },
     "metadata": {
      "needs_background": "light"
     },
     "output_type": "display_data"
    },
    {
     "data": {
      "text/plain": [
       "<Figure size 432x288 with 0 Axes>"
      ]
     },
     "metadata": {},
     "output_type": "display_data"
    }
   ],
   "source": [
    "# Checking the distribution of all the 12 Brands\n",
    "\n",
    "col_name=['Brand1',\n",
    "          'Brand2',\n",
    "          'Brand3',\n",
    "          'Brand4',\n",
    "          'Brand5',\n",
    "          'Brand6',\n",
    "          'Brand7',\n",
    "          'Brand8',\n",
    "          'Brand9',\n",
    "          'Brand10',\n",
    "          'Brand11',\n",
    "          'Brand12']\n",
    "\n",
    "for i in col_name:\n",
    "    plt.hist(data[i], bins= 30, color ='#3399ff')\n",
    "    plt.xlabel(i)\n",
    "    plt.ylabel('Frequency')\n",
    "    plt.title('Distribution of ' + i)\n",
    "    plt.show()\n",
    "    plt.clf()"
   ]
  },
  {
   "cell_type": "code",
   "execution_count": 8,
   "metadata": {},
   "outputs": [
    {
     "data": {
      "image/png": "[encoded data removed]",
      "text/plain": [
       "<Figure size 576x576 with 1 Axes>"
      ]
     },
     "metadata": {
      "needs_background": "light"
     },
     "output_type": "display_data"
    }
   ],
   "source": [
    "# Distibution of 'Total Sales'\n",
    "plt.figure(figsize=(8,8))\n",
    "plt.hist(data['Total Sales'],bins=100, color ='#3399ff')\n",
    "plt.xlabel('Total Sales')\n",
    "plt.ylabel('Frequency')\n",
    "plt.title('Distribution of Total Sales')\n",
    "plt.show()"
   ]
  },
  {
   "cell_type": "code",
   "execution_count": 9,
   "metadata": {},
   "outputs": [
    {
     "data": {
      "text/plain": [
       "<matplotlib.axes._subplots.AxesSubplot at 0x1f7ec49e390>"
      ]
     },
     "execution_count": 9,
     "metadata": {},
     "output_type": "execute_result"
    },
    {
     "data": {
      "image/png": "[encoded data removed]",
      "text/plain": [
       "<Figure size 720x360 with 1 Axes>"
      ]
     },
     "metadata": {
      "needs_background": "light"
     },
     "output_type": "display_data"
    }
   ],
   "source": [
    "# Checking the distribution of 'Number of Brands'\n",
    "plt.figure(figsize=(10,5))\n",
    "sns.countplot(data['Number of Brands'])"
   ]
  },
  {
   "cell_type": "code",
   "execution_count": null,
   "metadata": {},
   "outputs": [],
   "source": [
    "# By observing above distribution , we can see that frequency for '0' value of 'Number of Brands' is very very high.\n",
    "# This means there are many retaliers which are not buying any Brand\n",
    "# In other words out of 9938 retailers , more than 6000 retailers are not buying any brand.\n",
    "# Hence they can be grouped in one cluster."
   ]
  },
  {
   "cell_type": "code",
   "execution_count": 10,
   "metadata": {},
   "outputs": [],
   "source": [
    "# Subsetting data into 2 groups of 'data_buyer' and 'data_non_buyer'\n",
    "# Such that for 'data_buyer' the value of 'Numer of brands' > 0\n",
    "# and for 'data_non_buyer' the value of 'Numer of brands' = 0\n",
    "\n",
    "data_buyer = data[data['Number of Brands']!=0]\n",
    "data_non_buyer = data[data['Number of Brands']==0]"
   ]
  },
  {
   "cell_type": "code",
   "execution_count": 11,
   "metadata": {},
   "outputs": [
    {
     "name": "stderr",
     "output_type": "stream",
     "text": [
      "D:\\python\\lib\\site-packages\\ipykernel_launcher.py:2: SettingWithCopyWarning: \n",
      "A value is trying to be set on a copy of a slice from a DataFrame.\n",
      "Try using .loc[row_indexer,col_indexer] = value instead\n",
      "\n",
      "See the caveats in the documentation: http://pandas.pydata.org/pandas-docs/stable/indexing.html#indexing-view-versus-copy\n",
      "  \n"
     ]
    }
   ],
   "source": [
    "# For all non-buyers, assigning the cluster as 'A'\n",
    "data_non_buyer['Category of Retailer']= 'A'"
   ]
  },
  {
   "cell_type": "code",
   "execution_count": 12,
   "metadata": {},
   "outputs": [],
   "source": [
    "# Creating a new dataframe 'brands' to better understand each brand \n",
    "brand = pd.DataFrame(index=col_name)\n",
    "brand['Number of unique retailers'] = np.nan\n",
    "brand['Total Sales'] = np.nan"
   ]
  },
  {
   "cell_type": "code",
   "execution_count": 13,
   "metadata": {},
   "outputs": [],
   "source": [
    "# Filling the values for column 'Number of unique retailers' and 'Total Sales'\n",
    "q=0\n",
    "for i in col_name:\n",
    "    brand['Number of unique retailers'][q] = data[i].nunique()-1\n",
    "    brand['Total Sales'][q] = data[i].sum()\n",
    "    q=q+1\n",
    "    \n",
    "brand['Total Sales'] = brand['Total Sales'].astype(int)"
   ]
  },
  {
   "cell_type": "code",
   "execution_count": 14,
   "metadata": {},
   "outputs": [
    {
     "data": {
      "text/html": [
       "<div>\n",
       "<style scoped>\n",
       "    .dataframe tbody tr th:only-of-type {\n",
       "        vertical-align: middle;\n",
       "    }\n",
       "\n",
       "    .dataframe tbody tr th {\n",
       "        vertical-align: top;\n",
       "    }\n",
       "\n",
       "    .dataframe thead th {\n",
       "        text-align: right;\n",
       "    }\n",
       "</style>\n",
       "<table border=\"1\" class=\"dataframe\">\n",
       "  <thead>\n",
       "    <tr style=\"text-align: right;\">\n",
       "      <th></th>\n",
       "      <th>Number of unique retailers</th>\n",
       "      <th>Total Sales</th>\n",
       "    </tr>\n",
       "  </thead>\n",
       "  <tbody>\n",
       "    <tr>\n",
       "      <th>Brand1</th>\n",
       "      <td>153.0</td>\n",
       "      <td>16168606</td>\n",
       "    </tr>\n",
       "    <tr>\n",
       "      <th>Brand2</th>\n",
       "      <td>24.0</td>\n",
       "      <td>1569625</td>\n",
       "    </tr>\n",
       "    <tr>\n",
       "      <th>Brand3</th>\n",
       "      <td>1.0</td>\n",
       "      <td>9769</td>\n",
       "    </tr>\n",
       "    <tr>\n",
       "      <th>Brand4</th>\n",
       "      <td>15.0</td>\n",
       "      <td>26521117</td>\n",
       "    </tr>\n",
       "    <tr>\n",
       "      <th>Brand5</th>\n",
       "      <td>290.0</td>\n",
       "      <td>28745482</td>\n",
       "    </tr>\n",
       "    <tr>\n",
       "      <th>Brand6</th>\n",
       "      <td>203.0</td>\n",
       "      <td>12051657</td>\n",
       "    </tr>\n",
       "    <tr>\n",
       "      <th>Brand7</th>\n",
       "      <td>50.0</td>\n",
       "      <td>11774574</td>\n",
       "    </tr>\n",
       "    <tr>\n",
       "      <th>Brand8</th>\n",
       "      <td>27.0</td>\n",
       "      <td>6167040</td>\n",
       "    </tr>\n",
       "    <tr>\n",
       "      <th>Brand9</th>\n",
       "      <td>18.0</td>\n",
       "      <td>24706975</td>\n",
       "    </tr>\n",
       "    <tr>\n",
       "      <th>Brand10</th>\n",
       "      <td>259.0</td>\n",
       "      <td>16037918</td>\n",
       "    </tr>\n",
       "    <tr>\n",
       "      <th>Brand11</th>\n",
       "      <td>118.0</td>\n",
       "      <td>7416813</td>\n",
       "    </tr>\n",
       "    <tr>\n",
       "      <th>Brand12</th>\n",
       "      <td>16.0</td>\n",
       "      <td>983316</td>\n",
       "    </tr>\n",
       "  </tbody>\n",
       "</table>\n",
       "</div>"
      ],
      "text/plain": [
       "         Number of unique retailers  Total Sales\n",
       "Brand1                        153.0     16168606\n",
       "Brand2                         24.0      1569625\n",
       "Brand3                          1.0         9769\n",
       "Brand4                         15.0     26521117\n",
       "Brand5                        290.0     28745482\n",
       "Brand6                        203.0     12051657\n",
       "Brand7                         50.0     11774574\n",
       "Brand8                         27.0      6167040\n",
       "Brand9                         18.0     24706975\n",
       "Brand10                       259.0     16037918\n",
       "Brand11                       118.0      7416813\n",
       "Brand12                        16.0       983316"
      ]
     },
     "execution_count": 14,
     "metadata": {},
     "output_type": "execute_result"
    }
   ],
   "source": [
    "# Showing the dataframe 'brand'\n",
    "brand"
   ]
  },
  {
   "cell_type": "code",
   "execution_count": 38,
   "metadata": {},
   "outputs": [],
   "source": [
    "# The above values of 'Number of unique retailers' shows the number of retailers buying that particular brand\n",
    "# We can also see that only 1 retailer is buying Brand3 with total sale value of 9769\n",
    "# Hence I will not consider Brand3 while making clusters\n",
    "# For the retailer who is buying Brand3, I will reduce 'number of brands' by one"
   ]
  },
  {
   "cell_type": "code",
   "execution_count": 15,
   "metadata": {},
   "outputs": [
    {
     "data": {
      "text/plain": [
       "(array([2546], dtype=int64),)"
      ]
     },
     "execution_count": 15,
     "metadata": {},
     "output_type": "execute_result"
    }
   ],
   "source": [
    "# Finding the index for which value of 'Brand3' is non-zero\n",
    "data_buyer['Brand3'].nonzero()"
   ]
  },
  {
   "cell_type": "code",
   "execution_count": 16,
   "metadata": {},
   "outputs": [
    {
     "name": "stderr",
     "output_type": "stream",
     "text": [
      "D:\\python\\lib\\site-packages\\pandas\\core\\indexing.py:543: SettingWithCopyWarning: \n",
      "A value is trying to be set on a copy of a slice from a DataFrame.\n",
      "Try using .loc[row_indexer,col_indexer] = value instead\n",
      "\n",
      "See the caveats in the documentation: http://pandas.pydata.org/pandas-docs/stable/indexing.html#indexing-view-versus-copy\n",
      "  self.obj[item] = s\n"
     ]
    }
   ],
   "source": [
    "# For index# 2546, reducing the value of 'number of brands' by 1\n",
    "data_buyer.iloc[2546,14] = data_buyer.iloc[2546,14]-1"
   ]
  },
  {
   "cell_type": "code",
   "execution_count": 17,
   "metadata": {},
   "outputs": [],
   "source": [
    "# Deleting the column of 'Brand3'\n",
    "del data_buyer['Brand3']"
   ]
  },
  {
   "cell_type": "code",
   "execution_count": 18,
   "metadata": {},
   "outputs": [],
   "source": [
    "# Now scaling the dataframe 'data_buyer'\n",
    "\n",
    "# Creating a dataframe to contain only values\n",
    "data_buyer_values = data_buyer.values[:,1:14]\n",
    "\n",
    "cnames = ['Brand1',\n",
    "         'Brand2',\n",
    "         'Brand4',\n",
    "         'Brand5',\n",
    "         'Brand6',\n",
    "         'Brand7',\n",
    "         'Brand8',\n",
    "         'Brand9',\n",
    "         'Brand10',\n",
    "         'Brand11',\n",
    "         'Brand12',\n",
    "         'Total Sales',\n",
    "         'Number of Brands']"
   ]
  },
  {
   "cell_type": "code",
   "execution_count": 19,
   "metadata": {},
   "outputs": [
    {
     "name": "stderr",
     "output_type": "stream",
     "text": [
      "D:\\python\\lib\\site-packages\\sklearn\\utils\\validation.py:595: DataConversionWarning: Data with input dtype object was converted to float64 by MinMaxScaler.\n",
      "  warnings.warn(msg, DataConversionWarning)\n"
     ]
    }
   ],
   "source": [
    "#Create Scaled Data Frame named 'data_scaled' from 'data_buyer_values'\n",
    "scaler = MinMaxScaler()\n",
    "data_scaled= scaler.fit_transform( data_buyer_values )\n",
    "data_scaled = pd.DataFrame( data= data_scaled , columns= cnames)"
   ]
  },
  {
   "cell_type": "code",
   "execution_count": 20,
   "metadata": {},
   "outputs": [
    {
     "data": {
      "text/html": [
       "<div>\n",
       "<style scoped>\n",
       "    .dataframe tbody tr th:only-of-type {\n",
       "        vertical-align: middle;\n",
       "    }\n",
       "\n",
       "    .dataframe tbody tr th {\n",
       "        vertical-align: top;\n",
       "    }\n",
       "\n",
       "    .dataframe thead th {\n",
       "        text-align: right;\n",
       "    }\n",
       "</style>\n",
       "<table border=\"1\" class=\"dataframe\">\n",
       "  <thead>\n",
       "    <tr style=\"text-align: right;\">\n",
       "      <th></th>\n",
       "      <th>Brand1</th>\n",
       "      <th>Brand2</th>\n",
       "      <th>Brand4</th>\n",
       "      <th>Brand5</th>\n",
       "      <th>Brand6</th>\n",
       "      <th>Brand7</th>\n",
       "      <th>Brand8</th>\n",
       "      <th>Brand9</th>\n",
       "      <th>Brand10</th>\n",
       "      <th>Brand11</th>\n",
       "      <th>Brand12</th>\n",
       "      <th>Total Sales</th>\n",
       "      <th>Number of Brands</th>\n",
       "    </tr>\n",
       "  </thead>\n",
       "  <tbody>\n",
       "    <tr>\n",
       "      <th>0</th>\n",
       "      <td>0.000000</td>\n",
       "      <td>0.0</td>\n",
       "      <td>0.00</td>\n",
       "      <td>0.000000</td>\n",
       "      <td>0.0</td>\n",
       "      <td>0.0</td>\n",
       "      <td>0.0</td>\n",
       "      <td>0.000000</td>\n",
       "      <td>0.212293</td>\n",
       "      <td>0.0</td>\n",
       "      <td>0.0</td>\n",
       "      <td>0.003934</td>\n",
       "      <td>0.00</td>\n",
       "    </tr>\n",
       "    <tr>\n",
       "      <th>1</th>\n",
       "      <td>0.048387</td>\n",
       "      <td>0.0</td>\n",
       "      <td>0.05</td>\n",
       "      <td>0.011438</td>\n",
       "      <td>0.0</td>\n",
       "      <td>0.0</td>\n",
       "      <td>0.0</td>\n",
       "      <td>0.000000</td>\n",
       "      <td>0.000000</td>\n",
       "      <td>0.0</td>\n",
       "      <td>0.0</td>\n",
       "      <td>0.008776</td>\n",
       "      <td>0.25</td>\n",
       "    </tr>\n",
       "    <tr>\n",
       "      <th>2</th>\n",
       "      <td>0.121499</td>\n",
       "      <td>0.0</td>\n",
       "      <td>0.00</td>\n",
       "      <td>0.009259</td>\n",
       "      <td>0.0</td>\n",
       "      <td>0.0</td>\n",
       "      <td>0.0</td>\n",
       "      <td>0.013889</td>\n",
       "      <td>0.000000</td>\n",
       "      <td>0.0</td>\n",
       "      <td>0.0</td>\n",
       "      <td>0.008421</td>\n",
       "      <td>0.25</td>\n",
       "    </tr>\n",
       "    <tr>\n",
       "      <th>3</th>\n",
       "      <td>0.000000</td>\n",
       "      <td>0.0</td>\n",
       "      <td>0.00</td>\n",
       "      <td>0.000000</td>\n",
       "      <td>0.0</td>\n",
       "      <td>0.0</td>\n",
       "      <td>0.0</td>\n",
       "      <td>0.027778</td>\n",
       "      <td>0.000000</td>\n",
       "      <td>0.0</td>\n",
       "      <td>0.0</td>\n",
       "      <td>0.003286</td>\n",
       "      <td>0.00</td>\n",
       "    </tr>\n",
       "    <tr>\n",
       "      <th>4</th>\n",
       "      <td>0.000000</td>\n",
       "      <td>0.0</td>\n",
       "      <td>0.00</td>\n",
       "      <td>0.000000</td>\n",
       "      <td>0.0</td>\n",
       "      <td>0.0</td>\n",
       "      <td>0.0</td>\n",
       "      <td>0.000000</td>\n",
       "      <td>0.215621</td>\n",
       "      <td>0.0</td>\n",
       "      <td>0.0</td>\n",
       "      <td>0.003997</td>\n",
       "      <td>0.00</td>\n",
       "    </tr>\n",
       "  </tbody>\n",
       "</table>\n",
       "</div>"
      ],
      "text/plain": [
       "     Brand1  Brand2  Brand4    Brand5  Brand6  Brand7  Brand8    Brand9  \\\n",
       "0  0.000000     0.0    0.00  0.000000     0.0     0.0     0.0  0.000000   \n",
       "1  0.048387     0.0    0.05  0.011438     0.0     0.0     0.0  0.000000   \n",
       "2  0.121499     0.0    0.00  0.009259     0.0     0.0     0.0  0.013889   \n",
       "3  0.000000     0.0    0.00  0.000000     0.0     0.0     0.0  0.027778   \n",
       "4  0.000000     0.0    0.00  0.000000     0.0     0.0     0.0  0.000000   \n",
       "\n",
       "    Brand10  Brand11  Brand12  Total Sales  Number of Brands  \n",
       "0  0.212293      0.0      0.0     0.003934              0.00  \n",
       "1  0.000000      0.0      0.0     0.008776              0.25  \n",
       "2  0.000000      0.0      0.0     0.008421              0.25  \n",
       "3  0.000000      0.0      0.0     0.003286              0.00  \n",
       "4  0.215621      0.0      0.0     0.003997              0.00  "
      ]
     },
     "execution_count": 20,
     "metadata": {},
     "output_type": "execute_result"
    }
   ],
   "source": [
    "# Checking first 5 entries of data_scaled\n",
    "data_scaled.head()"
   ]
  },
  {
   "cell_type": "code",
   "execution_count": null,
   "metadata": {},
   "outputs": [],
   "source": [
    "########################### Cluster Analysis ###########################"
   ]
  },
  {
   "cell_type": "code",
   "execution_count": 21,
   "metadata": {},
   "outputs": [],
   "source": [
    "#Checking number of clusters \n",
    "cluster_range = range (1,20)\n",
    "\n",
    "cluster_error =[]\n",
    "\n",
    "for num_clusters in cluster_range:\n",
    "    clusters = KMeans(num_clusters).fit( data_scaled )\n",
    "    cluster_error.append(clusters.inertia_)\n",
    "    \n",
    "cluster_df = pd.DataFrame( {'number of clusters' : cluster_range , \n",
    "                           'cluster error' : cluster_error})"
   ]
  },
  {
   "cell_type": "code",
   "execution_count": 22,
   "metadata": {},
   "outputs": [
    {
     "data": {
      "text/plain": [
       "Text(0,0.5,'Interia of Clusters')"
      ]
     },
     "execution_count": 22,
     "metadata": {},
     "output_type": "execute_result"
    },
    {
     "data": {
      "image/png": "[encoded data removed]",
      "text/plain": [
       "<Figure size 720x720 with 1 Axes>"
      ]
     },
     "metadata": {
      "needs_background": "light"
     },
     "output_type": "display_data"
    }
   ],
   "source": [
    "#Plotting Elbow Curve to determine optimum number of cluster \n",
    "plt.figure(figsize = (10,10))\n",
    "plt.plot(cluster_df['number of clusters'] ,cluster_df['cluster error'] , marker ='s' )\n",
    "plt.xlabel('Number of Clusters')\n",
    "plt.ylabel('Interia of Clusters')"
   ]
  },
  {
   "cell_type": "code",
   "execution_count": null,
   "metadata": {},
   "outputs": [],
   "source": [
    "# Number of clusters taken = 4 clusters"
   ]
  },
  {
   "cell_type": "code",
   "execution_count": 52,
   "metadata": {},
   "outputs": [],
   "source": [
    "# Making 4 clusters using k-means on 'data_scaled'\n",
    "k4model =KMeans(n_clusters=4).fit(data_scaled)"
   ]
  },
  {
   "cell_type": "code",
   "execution_count": 53,
   "metadata": {},
   "outputs": [],
   "source": [
    "# Making a new column as '4 clusters' on 'data_scaled'\n",
    "data_scaled['4 clusters'] = k4model.labels_"
   ]
  },
  {
   "cell_type": "code",
   "execution_count": 54,
   "metadata": {},
   "outputs": [
    {
     "name": "stderr",
     "output_type": "stream",
     "text": [
      "D:\\python\\lib\\site-packages\\ipykernel_launcher.py:2: SettingWithCopyWarning: \n",
      "A value is trying to be set on a copy of a slice from a DataFrame.\n",
      "Try using .loc[row_indexer,col_indexer] = value instead\n",
      "\n",
      "See the caveats in the documentation: http://pandas.pydata.org/pandas-docs/stable/indexing.html#indexing-view-versus-copy\n",
      "  \n"
     ]
    }
   ],
   "source": [
    "# Assigning the cluster number in 'data_buyer'\n",
    "data_buyer['Category of Retailer'] = k4model.labels_"
   ]
  },
  {
   "cell_type": "code",
   "execution_count": 56,
   "metadata": {},
   "outputs": [
    {
     "data": {
      "text/html": [
       "<div>\n",
       "<style scoped>\n",
       "    .dataframe tbody tr th:only-of-type {\n",
       "        vertical-align: middle;\n",
       "    }\n",
       "\n",
       "    .dataframe tbody tr th {\n",
       "        vertical-align: top;\n",
       "    }\n",
       "\n",
       "    .dataframe thead th {\n",
       "        text-align: right;\n",
       "    }\n",
       "</style>\n",
       "<table border=\"1\" class=\"dataframe\">\n",
       "  <thead>\n",
       "    <tr style=\"text-align: right;\">\n",
       "      <th></th>\n",
       "      <th>Brand1</th>\n",
       "      <th>Brand2</th>\n",
       "      <th>Brand4</th>\n",
       "      <th>Brand5</th>\n",
       "      <th>Brand6</th>\n",
       "      <th>Brand7</th>\n",
       "      <th>Brand8</th>\n",
       "      <th>Brand9</th>\n",
       "      <th>Brand10</th>\n",
       "      <th>Brand11</th>\n",
       "      <th>Brand12</th>\n",
       "      <th>Total Sales</th>\n",
       "      <th>Number of Brands</th>\n",
       "      <th>4 clusters</th>\n",
       "    </tr>\n",
       "  </thead>\n",
       "  <tbody>\n",
       "    <tr>\n",
       "      <th>0</th>\n",
       "      <td>0.000000</td>\n",
       "      <td>0.0</td>\n",
       "      <td>0.00</td>\n",
       "      <td>0.000000</td>\n",
       "      <td>0.0</td>\n",
       "      <td>0.0</td>\n",
       "      <td>0.0</td>\n",
       "      <td>0.000000</td>\n",
       "      <td>0.212293</td>\n",
       "      <td>0.0</td>\n",
       "      <td>0.0</td>\n",
       "      <td>0.003934</td>\n",
       "      <td>0.00</td>\n",
       "      <td>0</td>\n",
       "    </tr>\n",
       "    <tr>\n",
       "      <th>1</th>\n",
       "      <td>0.048387</td>\n",
       "      <td>0.0</td>\n",
       "      <td>0.05</td>\n",
       "      <td>0.011438</td>\n",
       "      <td>0.0</td>\n",
       "      <td>0.0</td>\n",
       "      <td>0.0</td>\n",
       "      <td>0.000000</td>\n",
       "      <td>0.000000</td>\n",
       "      <td>0.0</td>\n",
       "      <td>0.0</td>\n",
       "      <td>0.008776</td>\n",
       "      <td>0.25</td>\n",
       "      <td>3</td>\n",
       "    </tr>\n",
       "    <tr>\n",
       "      <th>2</th>\n",
       "      <td>0.121499</td>\n",
       "      <td>0.0</td>\n",
       "      <td>0.00</td>\n",
       "      <td>0.009259</td>\n",
       "      <td>0.0</td>\n",
       "      <td>0.0</td>\n",
       "      <td>0.0</td>\n",
       "      <td>0.013889</td>\n",
       "      <td>0.000000</td>\n",
       "      <td>0.0</td>\n",
       "      <td>0.0</td>\n",
       "      <td>0.008421</td>\n",
       "      <td>0.25</td>\n",
       "      <td>3</td>\n",
       "    </tr>\n",
       "    <tr>\n",
       "      <th>3</th>\n",
       "      <td>0.000000</td>\n",
       "      <td>0.0</td>\n",
       "      <td>0.00</td>\n",
       "      <td>0.000000</td>\n",
       "      <td>0.0</td>\n",
       "      <td>0.0</td>\n",
       "      <td>0.0</td>\n",
       "      <td>0.027778</td>\n",
       "      <td>0.000000</td>\n",
       "      <td>0.0</td>\n",
       "      <td>0.0</td>\n",
       "      <td>0.003286</td>\n",
       "      <td>0.00</td>\n",
       "      <td>0</td>\n",
       "    </tr>\n",
       "    <tr>\n",
       "      <th>4</th>\n",
       "      <td>0.000000</td>\n",
       "      <td>0.0</td>\n",
       "      <td>0.00</td>\n",
       "      <td>0.000000</td>\n",
       "      <td>0.0</td>\n",
       "      <td>0.0</td>\n",
       "      <td>0.0</td>\n",
       "      <td>0.000000</td>\n",
       "      <td>0.215621</td>\n",
       "      <td>0.0</td>\n",
       "      <td>0.0</td>\n",
       "      <td>0.003997</td>\n",
       "      <td>0.00</td>\n",
       "      <td>0</td>\n",
       "    </tr>\n",
       "  </tbody>\n",
       "</table>\n",
       "</div>"
      ],
      "text/plain": [
       "     Brand1  Brand2  Brand4    Brand5  Brand6  Brand7  Brand8    Brand9  \\\n",
       "0  0.000000     0.0    0.00  0.000000     0.0     0.0     0.0  0.000000   \n",
       "1  0.048387     0.0    0.05  0.011438     0.0     0.0     0.0  0.000000   \n",
       "2  0.121499     0.0    0.00  0.009259     0.0     0.0     0.0  0.013889   \n",
       "3  0.000000     0.0    0.00  0.000000     0.0     0.0     0.0  0.027778   \n",
       "4  0.000000     0.0    0.00  0.000000     0.0     0.0     0.0  0.000000   \n",
       "\n",
       "    Brand10  Brand11  Brand12  Total Sales  Number of Brands  4 clusters  \n",
       "0  0.212293      0.0      0.0     0.003934              0.00           0  \n",
       "1  0.000000      0.0      0.0     0.008776              0.25           3  \n",
       "2  0.000000      0.0      0.0     0.008421              0.25           3  \n",
       "3  0.000000      0.0      0.0     0.003286              0.00           0  \n",
       "4  0.215621      0.0      0.0     0.003997              0.00           0  "
      ]
     },
     "execution_count": 56,
     "metadata": {},
     "output_type": "execute_result"
    }
   ],
   "source": [
    "data_scaled.head()"
   ]
  },
  {
   "cell_type": "code",
   "execution_count": 59,
   "metadata": {},
   "outputs": [
    {
     "data": {
      "image/png": "[encoded data removed]",
      "text/plain": [
       "<Figure size 432x288 with 1 Axes>"
      ]
     },
     "metadata": {
      "needs_background": "light"
     },
     "output_type": "display_data"
    }
   ],
   "source": [
    "# Checking number of retailers in each cluster\n",
    "sns.countplot(data_scaled['4 clusters'])\n",
    "plt.title('Number of Retailers in each cluster')\n",
    "plt.show()"
   ]
  },
  {
   "cell_type": "code",
   "execution_count": 60,
   "metadata": {
    "collapsed": true
   },
   "outputs": [
    {
     "name": "stdout",
     "output_type": "stream",
     "text": [
      "[t-SNE] Computing 151 nearest neighbors...\n",
      "[t-SNE] Indexed 3489 samples in 0.016s...\n",
      "[t-SNE] Computed neighbors for 3489 samples in 0.484s...\n",
      "[t-SNE] Computed conditional probabilities for sample 1000 / 3489\n",
      "[t-SNE] Computed conditional probabilities for sample 2000 / 3489\n",
      "[t-SNE] Computed conditional probabilities for sample 3000 / 3489\n",
      "[t-SNE] Computed conditional probabilities for sample 3489 / 3489\n",
      "[t-SNE] Mean sigma: 0.000000\n",
      "[t-SNE] Computed conditional probabilities in 0.641s\n",
      "[t-SNE] Iteration 50: error = 65.6400757, gradient norm = 0.0440549 (50 iterations in 3.422s)\n",
      "[t-SNE] Iteration 100: error = 57.2915688, gradient norm = 0.0152982 (50 iterations in 2.562s)\n",
      "[t-SNE] Iteration 150: error = 55.2786407, gradient norm = 0.0106517 (50 iterations in 2.406s)\n",
      "[t-SNE] Iteration 200: error = 54.3090210, gradient norm = 0.0111565 (50 iterations in 2.453s)\n",
      "[t-SNE] Iteration 250: error = 53.7421570, gradient norm = 0.0057012 (50 iterations in 2.437s)\n",
      "[t-SNE] KL divergence after 250 iterations with early exaggeration: 53.742157\n",
      "[t-SNE] Iteration 300: error = 0.8139908, gradient norm = 0.0010738 (50 iterations in 2.562s)\n",
      "[t-SNE] Iteration 350: error = 0.5527661, gradient norm = 0.0003790 (50 iterations in 2.715s)\n",
      "[t-SNE] Iteration 400: error = 0.4615945, gradient norm = 0.0002102 (50 iterations in 2.531s)\n",
      "[t-SNE] Iteration 450: error = 0.4182395, gradient norm = 0.0001509 (50 iterations in 2.522s)\n",
      "[t-SNE] Iteration 500: error = 0.3949251, gradient norm = 0.0001268 (50 iterations in 2.455s)\n",
      "[t-SNE] Iteration 550: error = 0.3819264, gradient norm = 0.0001197 (50 iterations in 2.484s)\n",
      "[t-SNE] Iteration 600: error = 0.3735053, gradient norm = 0.0001100 (50 iterations in 2.469s)\n",
      "[t-SNE] Iteration 650: error = 0.3658251, gradient norm = 0.0001033 (50 iterations in 2.750s)\n",
      "[t-SNE] Iteration 700: error = 0.3601906, gradient norm = 0.0000926 (50 iterations in 2.515s)\n",
      "[t-SNE] Iteration 750: error = 0.3577985, gradient norm = 0.0000920 (50 iterations in 2.500s)\n",
      "[t-SNE] Iteration 800: error = 0.3537712, gradient norm = 0.0000857 (50 iterations in 2.656s)\n",
      "[t-SNE] Iteration 850: error = 0.3502742, gradient norm = 0.0000793 (50 iterations in 2.500s)\n",
      "[t-SNE] Iteration 900: error = 0.3490446, gradient norm = 0.0000835 (50 iterations in 2.515s)\n",
      "[t-SNE] Iteration 950: error = 0.3435412, gradient norm = 0.0000732 (50 iterations in 2.609s)\n",
      "[t-SNE] Iteration 1000: error = 0.3423078, gradient norm = 0.0000769 (50 iterations in 2.578s)\n",
      "[t-SNE] Iteration 1050: error = 0.3402787, gradient norm = 0.0000721 (50 iterations in 2.500s)\n",
      "[t-SNE] Iteration 1100: error = 0.3378313, gradient norm = 0.0000701 (50 iterations in 2.484s)\n",
      "[t-SNE] Iteration 1150: error = 0.3361901, gradient norm = 0.0000754 (50 iterations in 2.437s)\n",
      "[t-SNE] Iteration 1200: error = 0.3343003, gradient norm = 0.0000766 (50 iterations in 2.453s)\n",
      "[t-SNE] Iteration 1250: error = 0.3328914, gradient norm = 0.0000593 (50 iterations in 2.469s)\n",
      "[t-SNE] Iteration 1300: error = 0.3324570, gradient norm = 0.0000622 (50 iterations in 2.672s)\n",
      "[t-SNE] Iteration 1350: error = 0.3304028, gradient norm = 0.0000807 (50 iterations in 2.422s)\n",
      "[t-SNE] Iteration 1400: error = 0.3297925, gradient norm = 0.0000639 (50 iterations in 2.406s)\n",
      "[t-SNE] Iteration 1450: error = 0.3283376, gradient norm = 0.0000591 (50 iterations in 2.547s)\n",
      "[t-SNE] Iteration 1500: error = 0.3273230, gradient norm = 0.0000638 (50 iterations in 2.500s)\n",
      "[t-SNE] Iteration 1550: error = 0.3266570, gradient norm = 0.0000586 (50 iterations in 2.515s)\n",
      "[t-SNE] Iteration 1600: error = 0.3258050, gradient norm = 0.0000640 (50 iterations in 2.672s)\n",
      "[t-SNE] Iteration 1650: error = 0.3251644, gradient norm = 0.0000632 (50 iterations in 2.531s)\n",
      "[t-SNE] Iteration 1700: error = 0.3246802, gradient norm = 0.0000561 (50 iterations in 2.469s)\n",
      "[t-SNE] Iteration 1750: error = 0.3237945, gradient norm = 0.0000571 (50 iterations in 2.437s)\n",
      "[t-SNE] Iteration 1800: error = 0.3235981, gradient norm = 0.0000634 (50 iterations in 2.406s)\n",
      "[t-SNE] Iteration 1850: error = 0.3229401, gradient norm = 0.0000568 (50 iterations in 2.406s)\n",
      "[t-SNE] Iteration 1900: error = 0.3225610, gradient norm = 0.0000554 (50 iterations in 2.423s)\n",
      "[t-SNE] Iteration 1950: error = 0.3216023, gradient norm = 0.0000547 (50 iterations in 2.640s)\n",
      "[t-SNE] Iteration 2000: error = 0.3211427, gradient norm = 0.0000610 (50 iterations in 2.406s)\n",
      "[t-SNE] Iteration 2050: error = 0.3208154, gradient norm = 0.0000507 (50 iterations in 2.484s)\n",
      "[t-SNE] Iteration 2100: error = 0.3203174, gradient norm = 0.0000652 (50 iterations in 2.469s)\n",
      "[t-SNE] Iteration 2150: error = 0.3196361, gradient norm = 0.0000476 (50 iterations in 2.422s)\n",
      "[t-SNE] Iteration 2200: error = 0.3190114, gradient norm = 0.0000543 (50 iterations in 2.484s)\n",
      "[t-SNE] Iteration 2250: error = 0.3190360, gradient norm = 0.0000528 (50 iterations in 2.660s)\n",
      "[t-SNE] Iteration 2300: error = 0.3186943, gradient norm = 0.0000498 (50 iterations in 2.422s)\n",
      "[t-SNE] Iteration 2350: error = 0.3180023, gradient norm = 0.0000495 (50 iterations in 2.422s)\n",
      "[t-SNE] Iteration 2400: error = 0.3176257, gradient norm = 0.0000464 (50 iterations in 2.406s)\n",
      "[t-SNE] Iteration 2450: error = 0.3174204, gradient norm = 0.0000535 (50 iterations in 2.416s)\n",
      "[t-SNE] Iteration 2500: error = 0.3168919, gradient norm = 0.0000551 (50 iterations in 2.415s)\n",
      "[t-SNE] Iteration 2550: error = 0.3165182, gradient norm = 0.0000531 (50 iterations in 2.406s)\n",
      "[t-SNE] Iteration 2600: error = 0.3162124, gradient norm = 0.0000504 (50 iterations in 2.672s)\n",
      "[t-SNE] Iteration 2650: error = 0.3161242, gradient norm = 0.0000580 (50 iterations in 2.390s)\n",
      "[t-SNE] Iteration 2700: error = 0.3157746, gradient norm = 0.0000522 (50 iterations in 2.406s)\n",
      "[t-SNE] Iteration 2750: error = 0.3150820, gradient norm = 0.0000532 (50 iterations in 2.390s)\n",
      "[t-SNE] Iteration 2800: error = 0.3149277, gradient norm = 0.0000424 (50 iterations in 2.406s)\n",
      "[t-SNE] Iteration 2850: error = 0.3145623, gradient norm = 0.0000437 (50 iterations in 2.390s)\n",
      "[t-SNE] Iteration 2900: error = 0.3145427, gradient norm = 0.0000429 (50 iterations in 2.640s)\n",
      "[t-SNE] Iteration 2950: error = 0.3141871, gradient norm = 0.0000513 (50 iterations in 2.547s)\n",
      "[t-SNE] Iteration 3000: error = 0.3129815, gradient norm = 0.0000506 (50 iterations in 3.131s)\n",
      "[t-SNE] KL divergence after 3000 iterations: 0.312982\n"
     ]
    }
   ],
   "source": [
    "# Performing t-SNE on 'data_scaled' to visualize the clusters\n",
    "tsne = TSNE(n_components=2, \n",
    "            verbose=5, \n",
    "            perplexity=50,\n",
    "            n_iter=3000)\n",
    "\n",
    "tsne_results = tsne.fit_transform(data_scaled)"
   ]
  },
  {
   "cell_type": "code",
   "execution_count": 61,
   "metadata": {},
   "outputs": [
    {
     "data": {
      "text/plain": [
       "<matplotlib.axes._subplots.AxesSubplot at 0x1f7ec754908>"
      ]
     },
     "execution_count": 61,
     "metadata": {},
     "output_type": "execute_result"
    },
    {
     "data": {
      "image/png": "[encoded data removed]",
      "text/plain": [
       "<Figure size 576x576 with 1 Axes>"
      ]
     },
     "metadata": {
      "needs_background": "light"
     },
     "output_type": "display_data"
    }
   ],
   "source": [
    "#Scatter plot after t-SNE-axis and Kmeans cluster to visualize the clusters\n",
    "plt.figure( figsize = (8,8))\n",
    "sns.scatterplot(tsne_results[:,0] , \n",
    "                tsne_results[:,1], \n",
    "                hue= '4 clusters' , \n",
    "                legend='full', \n",
    "                data=data_scaled , \n",
    "                palette= 'Paired' , \n",
    "                sizes= 200)"
   ]
  },
  {
   "cell_type": "code",
   "execution_count": null,
   "metadata": {},
   "outputs": [],
   "source": [
    "# The k-means algorithm has given clusters names as 0, 1 , 2 and 3\n",
    "# Reassigning the clusters to 'B' , 'C' , 'D' and 'E'"
   ]
  },
  {
   "cell_type": "code",
   "execution_count": 62,
   "metadata": {},
   "outputs": [
    {
     "name": "stderr",
     "output_type": "stream",
     "text": [
      "D:\\python\\lib\\site-packages\\ipykernel_launcher.py:11: SettingWithCopyWarning: \n",
      "A value is trying to be set on a copy of a slice from a DataFrame.\n",
      "Try using .loc[row_indexer,col_indexer] = value instead\n",
      "\n",
      "See the caveats in the documentation: http://pandas.pydata.org/pandas-docs/stable/indexing.html#indexing-view-versus-copy\n",
      "  # This is added back by InteractiveShellApp.init_path()\n"
     ]
    }
   ],
   "source": [
    "# Creating a dcitionary to replace values of clusters\n",
    "cluster_rename = { 0: 'B' ,\n",
    "                   1: 'C' ,\n",
    "                   2: 'D' ,\n",
    "                   3: 'E'}\n",
    "\n",
    "# Replacing values of cluster in 'data_scaled'\n",
    "data_scaled['4 clusters'] = data_scaled['4 clusters'].map(cluster_rename)\n",
    "\n",
    "# Replacing values of cluster in 'data_buyer'\n",
    "data_buyer['Category of Retailer'] = data_buyer['Category of Retailer'].map(cluster_rename)"
   ]
  },
  {
   "cell_type": "code",
   "execution_count": 63,
   "metadata": {},
   "outputs": [
    {
     "data": {
      "text/html": [
       "<div>\n",
       "<style scoped>\n",
       "    .dataframe tbody tr th:only-of-type {\n",
       "        vertical-align: middle;\n",
       "    }\n",
       "\n",
       "    .dataframe tbody tr th {\n",
       "        vertical-align: top;\n",
       "    }\n",
       "\n",
       "    .dataframe thead th {\n",
       "        text-align: right;\n",
       "    }\n",
       "</style>\n",
       "<table border=\"1\" class=\"dataframe\">\n",
       "  <thead>\n",
       "    <tr style=\"text-align: right;\">\n",
       "      <th></th>\n",
       "      <th>Brand1</th>\n",
       "      <th>Brand2</th>\n",
       "      <th>Brand4</th>\n",
       "      <th>Brand5</th>\n",
       "      <th>Brand6</th>\n",
       "      <th>Brand7</th>\n",
       "      <th>Brand8</th>\n",
       "      <th>Brand9</th>\n",
       "      <th>Brand10</th>\n",
       "      <th>Brand11</th>\n",
       "      <th>Brand12</th>\n",
       "      <th>Total Sales</th>\n",
       "      <th>Number of Brands</th>\n",
       "    </tr>\n",
       "    <tr>\n",
       "      <th>Category of Retailer</th>\n",
       "      <th></th>\n",
       "      <th></th>\n",
       "      <th></th>\n",
       "      <th></th>\n",
       "      <th></th>\n",
       "      <th></th>\n",
       "      <th></th>\n",
       "      <th></th>\n",
       "      <th></th>\n",
       "      <th></th>\n",
       "      <th></th>\n",
       "      <th></th>\n",
       "      <th></th>\n",
       "    </tr>\n",
       "  </thead>\n",
       "  <tbody>\n",
       "    <tr>\n",
       "      <th>B</th>\n",
       "      <td>1783.07</td>\n",
       "      <td>293.13</td>\n",
       "      <td>6171.22</td>\n",
       "      <td>6834.64</td>\n",
       "      <td>2343.95</td>\n",
       "      <td>341.35</td>\n",
       "      <td>456.11</td>\n",
       "      <td>2841.90</td>\n",
       "      <td>2618.26</td>\n",
       "      <td>208.42</td>\n",
       "      <td>27.17</td>\n",
       "      <td>24183.00</td>\n",
       "      <td>1.00</td>\n",
       "    </tr>\n",
       "    <tr>\n",
       "      <th>C</th>\n",
       "      <td>4434.05</td>\n",
       "      <td>323.70</td>\n",
       "      <td>8874.07</td>\n",
       "      <td>4827.78</td>\n",
       "      <td>3072.84</td>\n",
       "      <td>1902.15</td>\n",
       "      <td>2305.57</td>\n",
       "      <td>5985.92</td>\n",
       "      <td>4082.33</td>\n",
       "      <td>608.07</td>\n",
       "      <td>206.03</td>\n",
       "      <td>37084.58</td>\n",
       "      <td>1.98</td>\n",
       "    </tr>\n",
       "    <tr>\n",
       "      <th>D</th>\n",
       "      <td>9706.40</td>\n",
       "      <td>1070.48</td>\n",
       "      <td>9097.13</td>\n",
       "      <td>17006.02</td>\n",
       "      <td>6061.39</td>\n",
       "      <td>13463.64</td>\n",
       "      <td>3148.73</td>\n",
       "      <td>16290.57</td>\n",
       "      <td>8415.47</td>\n",
       "      <td>10181.23</td>\n",
       "      <td>913.60</td>\n",
       "      <td>96654.27</td>\n",
       "      <td>5.03</td>\n",
       "    </tr>\n",
       "    <tr>\n",
       "      <th>E</th>\n",
       "      <td>6576.00</td>\n",
       "      <td>448.82</td>\n",
       "      <td>8071.53</td>\n",
       "      <td>8199.59</td>\n",
       "      <td>4084.95</td>\n",
       "      <td>3697.14</td>\n",
       "      <td>2708.01</td>\n",
       "      <td>9636.22</td>\n",
       "      <td>6074.75</td>\n",
       "      <td>1817.33</td>\n",
       "      <td>397.00</td>\n",
       "      <td>52490.27</td>\n",
       "      <td>3.37</td>\n",
       "    </tr>\n",
       "  </tbody>\n",
       "</table>\n",
       "</div>"
      ],
      "text/plain": [
       "                       Brand1   Brand2   Brand4    Brand5   Brand6    Brand7  \\\n",
       "Category of Retailer                                                           \n",
       "B                     1783.07   293.13  6171.22   6834.64  2343.95    341.35   \n",
       "C                     4434.05   323.70  8874.07   4827.78  3072.84   1902.15   \n",
       "D                     9706.40  1070.48  9097.13  17006.02  6061.39  13463.64   \n",
       "E                     6576.00   448.82  8071.53   8199.59  4084.95   3697.14   \n",
       "\n",
       "                       Brand8    Brand9  Brand10   Brand11  Brand12  \\\n",
       "Category of Retailer                                                  \n",
       "B                      456.11   2841.90  2618.26    208.42    27.17   \n",
       "C                     2305.57   5985.92  4082.33    608.07   206.03   \n",
       "D                     3148.73  16290.57  8415.47  10181.23   913.60   \n",
       "E                     2708.01   9636.22  6074.75   1817.33   397.00   \n",
       "\n",
       "                      Total Sales  Number of Brands  \n",
       "Category of Retailer                                 \n",
       "B                        24183.00              1.00  \n",
       "C                        37084.58              1.98  \n",
       "D                        96654.27              5.03  \n",
       "E                        52490.27              3.37  "
      ]
     },
     "execution_count": 63,
     "metadata": {},
     "output_type": "execute_result"
    }
   ],
   "source": [
    "# Grouping the data_buyer by clusters mean\n",
    "data_buyer.groupby('Category of Retailer').mean().round(2)"
   ]
  },
  {
   "cell_type": "code",
   "execution_count": 64,
   "metadata": {},
   "outputs": [
    {
     "data": {
      "image/png": "[encoded data removed]",
      "text/plain": [
       "<Figure size 900x180 with 4 Axes>"
      ]
     },
     "metadata": {
      "needs_background": "light"
     },
     "output_type": "display_data"
    },
    {
     "data": {
      "text/plain": [
       "<Figure size 720x720 with 0 Axes>"
      ]
     },
     "metadata": {},
     "output_type": "display_data"
    }
   ],
   "source": [
    "# Plotting the 'number of brands' for each cluster\n",
    "sns.catplot(x= 'Number of Brands',\n",
    "            col='Category of Retailer', \n",
    "            col_wrap=5,\n",
    "            data=data_buyer,\n",
    "            kind=\"count\", \n",
    "            height=2.5, \n",
    "            aspect=1)\n",
    "plt.figure(figsize = (10,10))\n",
    "plt.show()"
   ]
  },
  {
   "cell_type": "code",
   "execution_count": null,
   "metadata": {},
   "outputs": [],
   "source": [
    "# By observing the above figures we can clearly see that :\n",
    "# Cluster 'B' comprises of retailers that buys only 1 brand\n",
    "# Cluster 'E' comprises of retailers that buys either 3 or 4 brands together\n",
    "# Cluster 'D' comprises of retailers that buys only all brand but the number of such retailers is very less\n",
    "# Cluster 'C' comprises of retailers that buys only 2 brand"
   ]
  },
  {
   "cell_type": "code",
   "execution_count": 65,
   "metadata": {},
   "outputs": [],
   "source": [
    "# Now subsetting 'data_buyer' dataframe for further analysis of each cluster\n",
    "\n",
    "cluster_B = data_buyer[data_buyer['Category of Retailer']=='B']\n",
    "\n",
    "cluster_C = data_buyer[data_buyer['Category of Retailer']=='C']\n",
    "\n",
    "cluster_D = data_buyer[data_buyer['Category of Retailer']=='D']\n",
    "\n",
    "cluster_E = data_buyer[data_buyer['Category of Retailer']=='E']"
   ]
  },
  {
   "cell_type": "code",
   "execution_count": 66,
   "metadata": {},
   "outputs": [],
   "source": [
    "# Creating an index for cluster analysis\n",
    "col_names = ['Brand1',\n",
    "             'Brand2',\n",
    "             'Brand4',\n",
    "             'Brand5',\n",
    "             'Brand6',\n",
    "             'Brand7',\n",
    "             'Brand8',\n",
    "             'Brand9',\n",
    "             'Brand10',\n",
    "             'Brand11',\n",
    "             'Brand12']"
   ]
  },
  {
   "cell_type": "code",
   "execution_count": null,
   "metadata": {},
   "outputs": [],
   "source": [
    "################################ 'Cluster B' Analysis ################################"
   ]
  },
  {
   "cell_type": "code",
   "execution_count": 67,
   "metadata": {},
   "outputs": [],
   "source": [
    "# Creating a new dataframe 'cluster_B_details'\n",
    "cluster_B_details = pd.DataFrame(index=col_names)\n",
    "\n",
    "cluster_B_details['Number of unique customers'] = np.nan\n",
    "cluster_B_details['Total Sales'] = np.nan\n",
    "cluster_B_details['Mean of Total Sales'] = np.nan"
   ]
  },
  {
   "cell_type": "code",
   "execution_count": 68,
   "metadata": {},
   "outputs": [],
   "source": [
    "# Filling the values of 'Number of unique customers' , 'Total Sales' and 'Mean of Total Sales'\n",
    "q=0\n",
    "for i in col_names:\n",
    "    cluster_B_details['Number of unique customers'][q] = cluster_B[i].nunique()-1\n",
    "    cluster_B_details['Total Sales'][q] = cluster_B[i].sum()\n",
    "    cluster_B_details['Mean of Total Sales'][q] = (cluster_B_details['Total Sales'][q]) / ( cluster_B_details['Number of unique customers'][q])\n",
    "    q=q+1"
   ]
  },
  {
   "cell_type": "code",
   "execution_count": 69,
   "metadata": {},
   "outputs": [],
   "source": [
    "# Changing 'Total Sales' type to int and round off value of 'Mean of Total Sales' to 2 decimal places\n",
    "cluster_B_details['Total Sales'] = cluster_B_details['Total Sales'].astype(int)\n",
    "cluster_B_details['Mean of Total Sales'] = cluster_B_details['Mean of Total Sales'].round(2)"
   ]
  },
  {
   "cell_type": "code",
   "execution_count": 70,
   "metadata": {},
   "outputs": [
    {
     "data": {
      "text/html": [
       "<div>\n",
       "<style scoped>\n",
       "    .dataframe tbody tr th:only-of-type {\n",
       "        vertical-align: middle;\n",
       "    }\n",
       "\n",
       "    .dataframe tbody tr th {\n",
       "        vertical-align: top;\n",
       "    }\n",
       "\n",
       "    .dataframe thead th {\n",
       "        text-align: right;\n",
       "    }\n",
       "</style>\n",
       "<table border=\"1\" class=\"dataframe\">\n",
       "  <thead>\n",
       "    <tr style=\"text-align: right;\">\n",
       "      <th></th>\n",
       "      <th>Number of unique customers</th>\n",
       "      <th>Total Sales</th>\n",
       "      <th>Mean of Total Sales</th>\n",
       "    </tr>\n",
       "  </thead>\n",
       "  <tbody>\n",
       "    <tr>\n",
       "      <th>Brand1</th>\n",
       "      <td>43.0</td>\n",
       "      <td>2551570</td>\n",
       "      <td>59338.85</td>\n",
       "    </tr>\n",
       "    <tr>\n",
       "      <th>Brand2</th>\n",
       "      <td>11.0</td>\n",
       "      <td>419474</td>\n",
       "      <td>38134.08</td>\n",
       "    </tr>\n",
       "    <tr>\n",
       "      <th>Brand4</th>\n",
       "      <td>11.0</td>\n",
       "      <td>8831010</td>\n",
       "      <td>802819.15</td>\n",
       "    </tr>\n",
       "    <tr>\n",
       "      <th>Brand5</th>\n",
       "      <td>149.0</td>\n",
       "      <td>9780367</td>\n",
       "      <td>65640.05</td>\n",
       "    </tr>\n",
       "    <tr>\n",
       "      <th>Brand6</th>\n",
       "      <td>79.0</td>\n",
       "      <td>3354194</td>\n",
       "      <td>42458.16</td>\n",
       "    </tr>\n",
       "    <tr>\n",
       "      <th>Brand7</th>\n",
       "      <td>13.0</td>\n",
       "      <td>488472</td>\n",
       "      <td>37574.83</td>\n",
       "    </tr>\n",
       "    <tr>\n",
       "      <th>Brand8</th>\n",
       "      <td>9.0</td>\n",
       "      <td>652696</td>\n",
       "      <td>72521.82</td>\n",
       "    </tr>\n",
       "    <tr>\n",
       "      <th>Brand9</th>\n",
       "      <td>8.0</td>\n",
       "      <td>4066753</td>\n",
       "      <td>508344.22</td>\n",
       "    </tr>\n",
       "    <tr>\n",
       "      <th>Brand10</th>\n",
       "      <td>81.0</td>\n",
       "      <td>3746723</td>\n",
       "      <td>46255.85</td>\n",
       "    </tr>\n",
       "    <tr>\n",
       "      <th>Brand11</th>\n",
       "      <td>10.0</td>\n",
       "      <td>298250</td>\n",
       "      <td>29825.06</td>\n",
       "    </tr>\n",
       "    <tr>\n",
       "      <th>Brand12</th>\n",
       "      <td>2.0</td>\n",
       "      <td>38887</td>\n",
       "      <td>19443.56</td>\n",
       "    </tr>\n",
       "  </tbody>\n",
       "</table>\n",
       "</div>"
      ],
      "text/plain": [
       "         Number of unique customers  Total Sales  Mean of Total Sales\n",
       "Brand1                         43.0      2551570             59338.85\n",
       "Brand2                         11.0       419474             38134.08\n",
       "Brand4                         11.0      8831010            802819.15\n",
       "Brand5                        149.0      9780367             65640.05\n",
       "Brand6                         79.0      3354194             42458.16\n",
       "Brand7                         13.0       488472             37574.83\n",
       "Brand8                          9.0       652696             72521.82\n",
       "Brand9                          8.0      4066753            508344.22\n",
       "Brand10                        81.0      3746723             46255.85\n",
       "Brand11                        10.0       298250             29825.06\n",
       "Brand12                         2.0        38887             19443.56"
      ]
     },
     "execution_count": 70,
     "metadata": {},
     "output_type": "execute_result"
    }
   ],
   "source": [
    "cluster_B_details"
   ]
  },
  {
   "cell_type": "code",
   "execution_count": 71,
   "metadata": {},
   "outputs": [
    {
     "data": {
      "image/png": "[encoded data removed]",
      "text/plain": [
       "<Figure size 720x360 with 1 Axes>"
      ]
     },
     "metadata": {
      "needs_background": "light"
     },
     "output_type": "display_data"
    }
   ],
   "source": [
    "# Plotting the Total sales for each brand of Cluster 'B'\n",
    "plt.figure(figsize = (10,5))\n",
    "sns.barplot(   x=cluster_B_details.index,\n",
    "               y='Total Sales',\n",
    "               data= cluster_B_details)\n",
    "plt.xlabel('Brands')\n",
    "plt.title('Cluster B')\n",
    "plt.show()"
   ]
  },
  {
   "cell_type": "code",
   "execution_count": null,
   "metadata": {},
   "outputs": [],
   "source": [
    "################################ 'Cluster C' Analysis ################################"
   ]
  },
  {
   "cell_type": "code",
   "execution_count": 72,
   "metadata": {},
   "outputs": [],
   "source": [
    "# Creating a new dataframe 'cluster_C_details'\n",
    "cluster_C_details = pd.DataFrame(index=col_names)\n",
    "\n",
    "cluster_C_details['Number of unique customers'] = np.nan\n",
    "cluster_C_details['Total Sales'] = np.nan\n",
    "cluster_C_details['Mean of Total Sales'] = np.nan"
   ]
  },
  {
   "cell_type": "code",
   "execution_count": 73,
   "metadata": {},
   "outputs": [],
   "source": [
    "# Filling the values of 'Number of unique customers' , 'Total Sales' and 'Mean of Total Sales'\n",
    "q=0\n",
    "for i in col_names:\n",
    "    cluster_C_details['Number of unique customers'][q] = cluster_C[i].nunique()-1\n",
    "    cluster_C_details['Total Sales'][q] = cluster_C[i].sum()\n",
    "    cluster_C_details['Mean of Total Sales'][q] = (cluster_C_details['Total Sales'][q]) / ( cluster_C_details['Number of unique customers'][q])\n",
    "    q=q+1"
   ]
  },
  {
   "cell_type": "code",
   "execution_count": 74,
   "metadata": {},
   "outputs": [],
   "source": [
    "# Changing 'Total Sales' type to int and round off value of 'Mean of Total Sales' to 2 decimal places\n",
    "cluster_C_details['Total Sales'] = cluster_C_details['Total Sales'].astype(int)\n",
    "cluster_C_details['Mean of Total Sales'] = cluster_C_details['Mean of Total Sales'].round(2)"
   ]
  },
  {
   "cell_type": "code",
   "execution_count": 75,
   "metadata": {},
   "outputs": [
    {
     "data": {
      "text/html": [
       "<div>\n",
       "<style scoped>\n",
       "    .dataframe tbody tr th:only-of-type {\n",
       "        vertical-align: middle;\n",
       "    }\n",
       "\n",
       "    .dataframe tbody tr th {\n",
       "        vertical-align: top;\n",
       "    }\n",
       "\n",
       "    .dataframe thead th {\n",
       "        text-align: right;\n",
       "    }\n",
       "</style>\n",
       "<table border=\"1\" class=\"dataframe\">\n",
       "  <thead>\n",
       "    <tr style=\"text-align: right;\">\n",
       "      <th></th>\n",
       "      <th>Number of unique customers</th>\n",
       "      <th>Total Sales</th>\n",
       "      <th>Mean of Total Sales</th>\n",
       "    </tr>\n",
       "  </thead>\n",
       "  <tbody>\n",
       "    <tr>\n",
       "      <th>Brand1</th>\n",
       "      <td>57.0</td>\n",
       "      <td>3099400</td>\n",
       "      <td>54375.45</td>\n",
       "    </tr>\n",
       "    <tr>\n",
       "      <th>Brand2</th>\n",
       "      <td>7.0</td>\n",
       "      <td>226265</td>\n",
       "      <td>32323.69</td>\n",
       "    </tr>\n",
       "    <tr>\n",
       "      <th>Brand4</th>\n",
       "      <td>12.0</td>\n",
       "      <td>6202972</td>\n",
       "      <td>516914.38</td>\n",
       "    </tr>\n",
       "    <tr>\n",
       "      <th>Brand5</th>\n",
       "      <td>80.0</td>\n",
       "      <td>3374620</td>\n",
       "      <td>42182.75</td>\n",
       "    </tr>\n",
       "    <tr>\n",
       "      <th>Brand6</th>\n",
       "      <td>54.0</td>\n",
       "      <td>2147912</td>\n",
       "      <td>39776.15</td>\n",
       "    </tr>\n",
       "    <tr>\n",
       "      <th>Brand7</th>\n",
       "      <td>22.0</td>\n",
       "      <td>1329603</td>\n",
       "      <td>60436.50</td>\n",
       "    </tr>\n",
       "    <tr>\n",
       "      <th>Brand8</th>\n",
       "      <td>21.0</td>\n",
       "      <td>1611595</td>\n",
       "      <td>76742.66</td>\n",
       "    </tr>\n",
       "    <tr>\n",
       "      <th>Brand9</th>\n",
       "      <td>8.0</td>\n",
       "      <td>4184155</td>\n",
       "      <td>523019.41</td>\n",
       "    </tr>\n",
       "    <tr>\n",
       "      <th>Brand10</th>\n",
       "      <td>84.0</td>\n",
       "      <td>2853549</td>\n",
       "      <td>33970.83</td>\n",
       "    </tr>\n",
       "    <tr>\n",
       "      <th>Brand11</th>\n",
       "      <td>24.0</td>\n",
       "      <td>425038</td>\n",
       "      <td>17709.93</td>\n",
       "    </tr>\n",
       "    <tr>\n",
       "      <th>Brand12</th>\n",
       "      <td>6.0</td>\n",
       "      <td>144017</td>\n",
       "      <td>24002.96</td>\n",
       "    </tr>\n",
       "  </tbody>\n",
       "</table>\n",
       "</div>"
      ],
      "text/plain": [
       "         Number of unique customers  Total Sales  Mean of Total Sales\n",
       "Brand1                         57.0      3099400             54375.45\n",
       "Brand2                          7.0       226265             32323.69\n",
       "Brand4                         12.0      6202972            516914.38\n",
       "Brand5                         80.0      3374620             42182.75\n",
       "Brand6                         54.0      2147912             39776.15\n",
       "Brand7                         22.0      1329603             60436.50\n",
       "Brand8                         21.0      1611595             76742.66\n",
       "Brand9                          8.0      4184155            523019.41\n",
       "Brand10                        84.0      2853549             33970.83\n",
       "Brand11                        24.0       425038             17709.93\n",
       "Brand12                         6.0       144017             24002.96"
      ]
     },
     "execution_count": 75,
     "metadata": {},
     "output_type": "execute_result"
    }
   ],
   "source": [
    "cluster_C_details"
   ]
  },
  {
   "cell_type": "code",
   "execution_count": 76,
   "metadata": {},
   "outputs": [
    {
     "data": {
      "image/png": "[encoded data removed]",
      "text/plain": [
       "<Figure size 720x360 with 1 Axes>"
      ]
     },
     "metadata": {
      "needs_background": "light"
     },
     "output_type": "display_data"
    }
   ],
   "source": [
    "# Plotting the Total sales for each brand of Cluster 'C'\n",
    "plt.figure(figsize = (10,5))\n",
    "sns.barplot(   x=cluster_C_details.index,\n",
    "               y='Total Sales',\n",
    "               data= cluster_C_details)\n",
    "plt.xlabel('Brands')\n",
    "plt.title('Cluster C')\n",
    "plt.show()"
   ]
  },
  {
   "cell_type": "code",
   "execution_count": null,
   "metadata": {},
   "outputs": [],
   "source": [
    "################################ 'Cluster D' Analysis ################################"
   ]
  },
  {
   "cell_type": "code",
   "execution_count": 77,
   "metadata": {},
   "outputs": [],
   "source": [
    "# Creating a new dataframe 'cluster_D_details'\n",
    "cluster_D_details = pd.DataFrame(index=col_names)\n",
    "\n",
    "cluster_D_details['Number of unique customers'] = np.nan\n",
    "cluster_D_details['Total Sales'] = np.nan\n",
    "cluster_D_details['Mean of Total Sales'] = np.nan"
   ]
  },
  {
   "cell_type": "code",
   "execution_count": 78,
   "metadata": {},
   "outputs": [],
   "source": [
    "# Filling the values of 'Number of unique customers' , 'Total Sales' and 'Mean of Total Sales'\n",
    "q=0\n",
    "for i in col_names:\n",
    "    cluster_D_details['Number of unique customers'][q] = cluster_D[i].nunique()-1\n",
    "    cluster_D_details['Total Sales'][q] = cluster_D[i].sum()\n",
    "    cluster_D_details['Mean of Total Sales'][q] = (cluster_D_details['Total Sales'][q]) / ( cluster_D_details['Number of unique customers'][q])\n",
    "    q=q+1"
   ]
  },
  {
   "cell_type": "code",
   "execution_count": 79,
   "metadata": {},
   "outputs": [],
   "source": [
    "# Changing 'Total Sales' type to int and round off value of 'Mean of Total Sales' to 2 decimal places\n",
    "cluster_D_details['Total Sales'] = cluster_D_details['Total Sales'].astype(int)\n",
    "cluster_D_details['Mean of Total Sales'] = cluster_D_details['Mean of Total Sales'].round(2)"
   ]
  },
  {
   "cell_type": "code",
   "execution_count": 80,
   "metadata": {},
   "outputs": [
    {
     "data": {
      "text/html": [
       "<div>\n",
       "<style scoped>\n",
       "    .dataframe tbody tr th:only-of-type {\n",
       "        vertical-align: middle;\n",
       "    }\n",
       "\n",
       "    .dataframe tbody tr th {\n",
       "        vertical-align: top;\n",
       "    }\n",
       "\n",
       "    .dataframe thead th {\n",
       "        text-align: right;\n",
       "    }\n",
       "</style>\n",
       "<table border=\"1\" class=\"dataframe\">\n",
       "  <thead>\n",
       "    <tr style=\"text-align: right;\">\n",
       "      <th></th>\n",
       "      <th>Number of unique customers</th>\n",
       "      <th>Total Sales</th>\n",
       "      <th>Mean of Total Sales</th>\n",
       "    </tr>\n",
       "  </thead>\n",
       "  <tbody>\n",
       "    <tr>\n",
       "      <th>Brand1</th>\n",
       "      <td>91.0</td>\n",
       "      <td>4901732</td>\n",
       "      <td>53865.19</td>\n",
       "    </tr>\n",
       "    <tr>\n",
       "      <th>Brand2</th>\n",
       "      <td>14.0</td>\n",
       "      <td>540594</td>\n",
       "      <td>38613.92</td>\n",
       "    </tr>\n",
       "    <tr>\n",
       "      <th>Brand4</th>\n",
       "      <td>10.0</td>\n",
       "      <td>4594051</td>\n",
       "      <td>459405.14</td>\n",
       "    </tr>\n",
       "    <tr>\n",
       "      <th>Brand5</th>\n",
       "      <td>128.0</td>\n",
       "      <td>8588040</td>\n",
       "      <td>67094.07</td>\n",
       "    </tr>\n",
       "    <tr>\n",
       "      <th>Brand6</th>\n",
       "      <td>80.0</td>\n",
       "      <td>3060999</td>\n",
       "      <td>38262.50</td>\n",
       "    </tr>\n",
       "    <tr>\n",
       "      <th>Brand7</th>\n",
       "      <td>41.0</td>\n",
       "      <td>6799139</td>\n",
       "      <td>165832.68</td>\n",
       "    </tr>\n",
       "    <tr>\n",
       "      <th>Brand8</th>\n",
       "      <td>17.0</td>\n",
       "      <td>1590107</td>\n",
       "      <td>93535.76</td>\n",
       "    </tr>\n",
       "    <tr>\n",
       "      <th>Brand9</th>\n",
       "      <td>14.0</td>\n",
       "      <td>8226738</td>\n",
       "      <td>587624.16</td>\n",
       "    </tr>\n",
       "    <tr>\n",
       "      <th>Brand10</th>\n",
       "      <td>130.0</td>\n",
       "      <td>4249811</td>\n",
       "      <td>32690.86</td>\n",
       "    </tr>\n",
       "    <tr>\n",
       "      <th>Brand11</th>\n",
       "      <td>107.0</td>\n",
       "      <td>5141520</td>\n",
       "      <td>48051.60</td>\n",
       "    </tr>\n",
       "    <tr>\n",
       "      <th>Brand12</th>\n",
       "      <td>12.0</td>\n",
       "      <td>461370</td>\n",
       "      <td>38447.52</td>\n",
       "    </tr>\n",
       "  </tbody>\n",
       "</table>\n",
       "</div>"
      ],
      "text/plain": [
       "         Number of unique customers  Total Sales  Mean of Total Sales\n",
       "Brand1                         91.0      4901732             53865.19\n",
       "Brand2                         14.0       540594             38613.92\n",
       "Brand4                         10.0      4594051            459405.14\n",
       "Brand5                        128.0      8588040             67094.07\n",
       "Brand6                         80.0      3060999             38262.50\n",
       "Brand7                         41.0      6799139            165832.68\n",
       "Brand8                         17.0      1590107             93535.76\n",
       "Brand9                         14.0      8226738            587624.16\n",
       "Brand10                       130.0      4249811             32690.86\n",
       "Brand11                       107.0      5141520             48051.60\n",
       "Brand12                        12.0       461370             38447.52"
      ]
     },
     "execution_count": 80,
     "metadata": {},
     "output_type": "execute_result"
    }
   ],
   "source": [
    "cluster_D_details"
   ]
  },
  {
   "cell_type": "code",
   "execution_count": 81,
   "metadata": {},
   "outputs": [
    {
     "data": {
      "image/png": "[encoded data removed]",
      "text/plain": [
       "<Figure size 720x360 with 1 Axes>"
      ]
     },
     "metadata": {
      "needs_background": "light"
     },
     "output_type": "display_data"
    }
   ],
   "source": [
    "# Plotting the Total sales for each brand of Cluster 'C'\n",
    "plt.figure(figsize = (10,5))\n",
    "sns.barplot(   x=cluster_D_details.index,\n",
    "               y='Total Sales',\n",
    "               data= cluster_D_details)\n",
    "plt.xlabel('Brands')\n",
    "plt.title('Cluster D')\n",
    "plt.show()"
   ]
  },
  {
   "cell_type": "code",
   "execution_count": null,
   "metadata": {},
   "outputs": [],
   "source": [
    "################################ 'Cluster E' Analysis ################################"
   ]
  },
  {
   "cell_type": "code",
   "execution_count": 82,
   "metadata": {},
   "outputs": [],
   "source": [
    "# Creating a new dataframe 'cluster_E_details'\n",
    "cluster_E_details = pd.DataFrame(index=col_names)\n",
    "\n",
    "cluster_E_details['Number of unique customers'] = np.nan\n",
    "cluster_E_details['Total Sales'] = np.nan\n",
    "cluster_E_details['Mean of Total Sales'] = np.nan"
   ]
  },
  {
   "cell_type": "code",
   "execution_count": 83,
   "metadata": {},
   "outputs": [],
   "source": [
    "# Filling the values of 'Number of unique customers' , 'Total Sales' and 'Mean of Total Sales'\n",
    "q=0\n",
    "for i in col_names:\n",
    "    cluster_E_details['Number of unique customers'][q] = cluster_E[i].nunique()-1\n",
    "    cluster_E_details['Total Sales'][q] = cluster_E[i].sum()\n",
    "    cluster_E_details['Mean of Total Sales'][q] = (cluster_E_details['Total Sales'][q]) / ( cluster_E_details['Number of unique customers'][q])\n",
    "    q=q+1"
   ]
  },
  {
   "cell_type": "code",
   "execution_count": 84,
   "metadata": {},
   "outputs": [],
   "source": [
    "# Changing 'Total Sales' type to int and round off value of 'Mean of Total Sales' to 2 decimal places\n",
    "cluster_E_details['Total Sales'] = cluster_E_details['Total Sales'].astype(int)\n",
    "cluster_E_details['Mean of Total Sales'] = cluster_E_details['Mean of Total Sales'].round(2)"
   ]
  },
  {
   "cell_type": "code",
   "execution_count": 85,
   "metadata": {},
   "outputs": [
    {
     "data": {
      "text/html": [
       "<div>\n",
       "<style scoped>\n",
       "    .dataframe tbody tr th:only-of-type {\n",
       "        vertical-align: middle;\n",
       "    }\n",
       "\n",
       "    .dataframe tbody tr th {\n",
       "        vertical-align: top;\n",
       "    }\n",
       "\n",
       "    .dataframe thead th {\n",
       "        text-align: right;\n",
       "    }\n",
       "</style>\n",
       "<table border=\"1\" class=\"dataframe\">\n",
       "  <thead>\n",
       "    <tr style=\"text-align: right;\">\n",
       "      <th></th>\n",
       "      <th>Number of unique customers</th>\n",
       "      <th>Total Sales</th>\n",
       "      <th>Mean of Total Sales</th>\n",
       "    </tr>\n",
       "  </thead>\n",
       "  <tbody>\n",
       "    <tr>\n",
       "      <th>Brand1</th>\n",
       "      <td>83.0</td>\n",
       "      <td>5615902</td>\n",
       "      <td>67661.48</td>\n",
       "    </tr>\n",
       "    <tr>\n",
       "      <th>Brand2</th>\n",
       "      <td>11.0</td>\n",
       "      <td>383289</td>\n",
       "      <td>34844.50</td>\n",
       "    </tr>\n",
       "    <tr>\n",
       "      <th>Brand4</th>\n",
       "      <td>9.0</td>\n",
       "      <td>6893083</td>\n",
       "      <td>765898.14</td>\n",
       "    </tr>\n",
       "    <tr>\n",
       "      <th>Brand5</th>\n",
       "      <td>126.0</td>\n",
       "      <td>7002453</td>\n",
       "      <td>55575.03</td>\n",
       "    </tr>\n",
       "    <tr>\n",
       "      <th>Brand6</th>\n",
       "      <td>89.0</td>\n",
       "      <td>3488550</td>\n",
       "      <td>39197.20</td>\n",
       "    </tr>\n",
       "    <tr>\n",
       "      <th>Brand7</th>\n",
       "      <td>28.0</td>\n",
       "      <td>3157358</td>\n",
       "      <td>112762.81</td>\n",
       "    </tr>\n",
       "    <tr>\n",
       "      <th>Brand8</th>\n",
       "      <td>23.0</td>\n",
       "      <td>2312640</td>\n",
       "      <td>100549.57</td>\n",
       "    </tr>\n",
       "    <tr>\n",
       "      <th>Brand9</th>\n",
       "      <td>10.0</td>\n",
       "      <td>8229327</td>\n",
       "      <td>822932.79</td>\n",
       "    </tr>\n",
       "    <tr>\n",
       "      <th>Brand10</th>\n",
       "      <td>118.0</td>\n",
       "      <td>5187833</td>\n",
       "      <td>43964.69</td>\n",
       "    </tr>\n",
       "    <tr>\n",
       "      <th>Brand11</th>\n",
       "      <td>33.0</td>\n",
       "      <td>1552003</td>\n",
       "      <td>47030.41</td>\n",
       "    </tr>\n",
       "    <tr>\n",
       "      <th>Brand12</th>\n",
       "      <td>10.0</td>\n",
       "      <td>339041</td>\n",
       "      <td>33904.15</td>\n",
       "    </tr>\n",
       "  </tbody>\n",
       "</table>\n",
       "</div>"
      ],
      "text/plain": [
       "         Number of unique customers  Total Sales  Mean of Total Sales\n",
       "Brand1                         83.0      5615902             67661.48\n",
       "Brand2                         11.0       383289             34844.50\n",
       "Brand4                          9.0      6893083            765898.14\n",
       "Brand5                        126.0      7002453             55575.03\n",
       "Brand6                         89.0      3488550             39197.20\n",
       "Brand7                         28.0      3157358            112762.81\n",
       "Brand8                         23.0      2312640            100549.57\n",
       "Brand9                         10.0      8229327            822932.79\n",
       "Brand10                       118.0      5187833             43964.69\n",
       "Brand11                        33.0      1552003             47030.41\n",
       "Brand12                        10.0       339041             33904.15"
      ]
     },
     "execution_count": 85,
     "metadata": {},
     "output_type": "execute_result"
    }
   ],
   "source": [
    "cluster_E_details"
   ]
  },
  {
   "cell_type": "code",
   "execution_count": 86,
   "metadata": {},
   "outputs": [
    {
     "data": {
      "image/png": "[encoded data removed]",
      "text/plain": [
       "<Figure size 720x360 with 1 Axes>"
      ]
     },
     "metadata": {
      "needs_background": "light"
     },
     "output_type": "display_data"
    }
   ],
   "source": [
    "# Plotting the Total sales for each brand of Cluster 'E'\n",
    "plt.figure(figsize = (10,5))\n",
    "sns.barplot(   x=cluster_E_details.index,\n",
    "               y='Total Sales',\n",
    "               data= cluster_E_details)\n",
    "plt.xlabel('Brands')\n",
    "plt.title('Cluster E')\n",
    "plt.show()"
   ]
  },
  {
   "cell_type": "code",
   "execution_count": null,
   "metadata": {},
   "outputs": [],
   "source": [
    "# Combining the dataframes 'data_buyer' and 'data_non_buyer' into single dataframe named 'data_with_clusters'"
   ]
  },
  {
   "cell_type": "code",
   "execution_count": 87,
   "metadata": {},
   "outputs": [],
   "source": [
    "# Deleting 'Brand3' column from data_non_buyer\n",
    "del data_non_buyer['Brand3']"
   ]
  },
  {
   "cell_type": "code",
   "execution_count": 119,
   "metadata": {},
   "outputs": [],
   "source": [
    "# Creating a new dataframe 'data_with_clusters'\n",
    "data_with_clusters = pd.DataFrame(data_buyer)\n",
    "\n",
    "# Appending 'data_buyer' and 'data_non_buyer'\n",
    "data_with_clusters = data_with_clusters.append(data_non_buyer)"
   ]
  },
  {
   "cell_type": "code",
   "execution_count": 120,
   "metadata": {},
   "outputs": [],
   "source": [
    "# Changing the type of 'Retailer Name' from object to str\n",
    "data_with_clusters['Retailer Name'] = data_with_clusters['Retailer Name'].astype(str)"
   ]
  },
  {
   "cell_type": "code",
   "execution_count": 121,
   "metadata": {},
   "outputs": [],
   "source": [
    "# In the 'Retailer name' column I will only store the numeric value of 'Retailer name'\n",
    "for i in range(len(data_with_clusters)):\n",
    "    retailer , data_with_clusters.iloc[i,0] = data_with_clusters.iloc[i,0].split('r')"
   ]
  },
  {
   "cell_type": "code",
   "execution_count": 122,
   "metadata": {},
   "outputs": [],
   "source": [
    "# Changing the type of 'Retailer Name' from str to int\n",
    "data_with_clusters['Retailer Name'] = data_with_clusters['Retailer Name'].astype(int)"
   ]
  },
  {
   "cell_type": "code",
   "execution_count": 123,
   "metadata": {},
   "outputs": [],
   "source": [
    "# Sorting 'data_with_clusters' in ascending oreder based on 'Retailer Name'\n",
    "data_with_clusters = data_with_clusters.sort_values('Retailer Name' , ascending = True)"
   ]
  },
  {
   "cell_type": "code",
   "execution_count": 124,
   "metadata": {},
   "outputs": [],
   "source": [
    "# Changing the type of 'Retailer Name' from int to str\n",
    "data_with_clusters['Retailer Name'] = data_with_clusters['Retailer Name'].astype(str)"
   ]
  },
  {
   "cell_type": "code",
   "execution_count": 125,
   "metadata": {},
   "outputs": [],
   "source": [
    "# Adding 'Retailer' string to numeric part of 'Retailer Name'\n",
    "name = 'Retailer '\n",
    "data_with_clusters['Retailer Name'] = name + data_with_clusters['Retailer Name']"
   ]
  },
  {
   "cell_type": "code",
   "execution_count": 126,
   "metadata": {},
   "outputs": [],
   "source": [
    "# Saving the 'data_with_clusters' to csv file\n",
    "data_with_clusters.to_csv('Case Study Data with Retailer Category.csv' , sep=',', index=False)"
   ]
  }
 ],
 "metadata": {
  "kernelspec": {
   "display_name": "Python 3",
   "language": "python",
   "name": "python3"
  },
  "language_info": {
   "codemirror_mode": {
    "name": "ipython",
    "version": 3
   },
   "file_extension": ".py",
   "mimetype": "text/x-python",
   "name": "python",
   "nbconvert_exporter": "python",
   "pygments_lexer": "ipython3",
   "version": "3.7.0"
  }
 },
 "nbformat": 4,
 "nbformat_minor": 2
}
